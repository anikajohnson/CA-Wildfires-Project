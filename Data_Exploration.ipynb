{
 "cells": [
  {
   "cell_type": "code",
   "execution_count": 1,
   "metadata": {},
   "outputs": [],
   "source": [
    "# import necessary packages\n",
    "\n",
    "import pandas as pd\n",
    "import os\n",
    "from datetime import datetime # I think this one can probably get deleted\n",
    "import matplotlib.pyplot as plt\n",
    "import numpy as np\n",
    "from scipy import stats\n",
    "from scipy.stats import linregress\n",
    "import warnings\n",
    "#warnings.simplefilter(\"ignore\")\n",
    "import seaborn as sns\n",
    "\n",
    "%matplotlib inline"
   ]
  },
  {
   "cell_type": "code",
   "execution_count": 2,
   "metadata": {},
   "outputs": [],
   "source": [
    "# Import Data as DataFrames\n",
    "fireData = pd.read_csv(\"Clean_Data/CA_WildFires.csv\")\n",
    "droughtData = pd.read_csv(\"Clean_Data/CA_Droughts.csv\")"
   ]
  },
  {
   "cell_type": "code",
   "execution_count": 3,
   "metadata": {},
   "outputs": [],
   "source": [
    "# Melissa M code Start Here"
   ]
  },
  {
   "cell_type": "code",
   "execution_count": 4,
   "metadata": {},
   "outputs": [
    {
     "data": {
      "text/html": [
       "<div>\n",
       "<style scoped>\n",
       "    .dataframe tbody tr th:only-of-type {\n",
       "        vertical-align: middle;\n",
       "    }\n",
       "\n",
       "    .dataframe tbody tr th {\n",
       "        vertical-align: top;\n",
       "    }\n",
       "\n",
       "    .dataframe thead th {\n",
       "        text-align: right;\n",
       "    }\n",
       "</style>\n",
       "<table border=\"1\" class=\"dataframe\">\n",
       "  <thead>\n",
       "    <tr style=\"text-align: right;\">\n",
       "      <th></th>\n",
       "      <th>Year</th>\n",
       "      <th>Fires</th>\n",
       "      <th>Acres</th>\n",
       "    </tr>\n",
       "  </thead>\n",
       "  <tbody>\n",
       "    <tr>\n",
       "      <th>0</th>\n",
       "      <td>2000</td>\n",
       "      <td>7622</td>\n",
       "      <td>295026</td>\n",
       "    </tr>\n",
       "    <tr>\n",
       "      <th>1</th>\n",
       "      <td>2001</td>\n",
       "      <td>9458</td>\n",
       "      <td>329126</td>\n",
       "    </tr>\n",
       "    <tr>\n",
       "      <th>2</th>\n",
       "      <td>2002</td>\n",
       "      <td>8328</td>\n",
       "      <td>969890</td>\n",
       "    </tr>\n",
       "    <tr>\n",
       "      <th>3</th>\n",
       "      <td>2003</td>\n",
       "      <td>9116</td>\n",
       "      <td>1020460</td>\n",
       "    </tr>\n",
       "    <tr>\n",
       "      <th>4</th>\n",
       "      <td>2004</td>\n",
       "      <td>8415</td>\n",
       "      <td>264988</td>\n",
       "    </tr>\n",
       "    <tr>\n",
       "      <th>5</th>\n",
       "      <td>2005</td>\n",
       "      <td>7162</td>\n",
       "      <td>222538</td>\n",
       "    </tr>\n",
       "    <tr>\n",
       "      <th>6</th>\n",
       "      <td>2006</td>\n",
       "      <td>8202</td>\n",
       "      <td>736022</td>\n",
       "    </tr>\n",
       "    <tr>\n",
       "      <th>7</th>\n",
       "      <td>2007</td>\n",
       "      <td>9093</td>\n",
       "      <td>1087110</td>\n",
       "    </tr>\n",
       "    <tr>\n",
       "      <th>8</th>\n",
       "      <td>2008</td>\n",
       "      <td>4923</td>\n",
       "      <td>1593690</td>\n",
       "    </tr>\n",
       "    <tr>\n",
       "      <th>9</th>\n",
       "      <td>2009</td>\n",
       "      <td>9159</td>\n",
       "      <td>422147</td>\n",
       "    </tr>\n",
       "    <tr>\n",
       "      <th>10</th>\n",
       "      <td>2010</td>\n",
       "      <td>6554</td>\n",
       "      <td>109529</td>\n",
       "    </tr>\n",
       "    <tr>\n",
       "      <th>11</th>\n",
       "      <td>2011</td>\n",
       "      <td>7989</td>\n",
       "      <td>168545</td>\n",
       "    </tr>\n",
       "    <tr>\n",
       "      <th>12</th>\n",
       "      <td>2012</td>\n",
       "      <td>7950</td>\n",
       "      <td>869599</td>\n",
       "    </tr>\n",
       "    <tr>\n",
       "      <th>13</th>\n",
       "      <td>2013</td>\n",
       "      <td>9907</td>\n",
       "      <td>601635</td>\n",
       "    </tr>\n",
       "    <tr>\n",
       "      <th>14</th>\n",
       "      <td>2014</td>\n",
       "      <td>7865</td>\n",
       "      <td>625540</td>\n",
       "    </tr>\n",
       "    <tr>\n",
       "      <th>15</th>\n",
       "      <td>2015</td>\n",
       "      <td>8745</td>\n",
       "      <td>893362</td>\n",
       "    </tr>\n",
       "    <tr>\n",
       "      <th>16</th>\n",
       "      <td>2016</td>\n",
       "      <td>6986</td>\n",
       "      <td>669534</td>\n",
       "    </tr>\n",
       "    <tr>\n",
       "      <th>17</th>\n",
       "      <td>2017</td>\n",
       "      <td>9133</td>\n",
       "      <td>1381405</td>\n",
       "    </tr>\n",
       "    <tr>\n",
       "      <th>18</th>\n",
       "      <td>2018</td>\n",
       "      <td>8572</td>\n",
       "      <td>1893913</td>\n",
       "    </tr>\n",
       "    <tr>\n",
       "      <th>19</th>\n",
       "      <td>2019</td>\n",
       "      <td>7860</td>\n",
       "      <td>259823</td>\n",
       "    </tr>\n",
       "  </tbody>\n",
       "</table>\n",
       "</div>"
      ],
      "text/plain": [
       "    Year  Fires    Acres\n",
       "0   2000   7622   295026\n",
       "1   2001   9458   329126\n",
       "2   2002   8328   969890\n",
       "3   2003   9116  1020460\n",
       "4   2004   8415   264988\n",
       "5   2005   7162   222538\n",
       "6   2006   8202   736022\n",
       "7   2007   9093  1087110\n",
       "8   2008   4923  1593690\n",
       "9   2009   9159   422147\n",
       "10  2010   6554   109529\n",
       "11  2011   7989   168545\n",
       "12  2012   7950   869599\n",
       "13  2013   9907   601635\n",
       "14  2014   7865   625540\n",
       "15  2015   8745   893362\n",
       "16  2016   6986   669534\n",
       "17  2017   9133  1381405\n",
       "18  2018   8572  1893913\n",
       "19  2019   7860   259823"
      ]
     },
     "execution_count": 4,
     "metadata": {},
     "output_type": "execute_result"
    }
   ],
   "source": [
    "fireData"
   ]
  },
  {
   "cell_type": "code",
   "execution_count": 5,
   "metadata": {},
   "outputs": [
    {
     "data": {
      "text/plain": [
       "Year     int64\n",
       "Fires    int64\n",
       "Acres    int64\n",
       "dtype: object"
      ]
     },
     "execution_count": 5,
     "metadata": {},
     "output_type": "execute_result"
    }
   ],
   "source": [
    "fireData.dtypes"
   ]
  },
  {
   "cell_type": "code",
   "execution_count": 6,
   "metadata": {},
   "outputs": [
    {
     "data": {
      "text/html": [
       "<div>\n",
       "<style scoped>\n",
       "    .dataframe tbody tr th:only-of-type {\n",
       "        vertical-align: middle;\n",
       "    }\n",
       "\n",
       "    .dataframe tbody tr th {\n",
       "        vertical-align: top;\n",
       "    }\n",
       "\n",
       "    .dataframe thead th {\n",
       "        text-align: right;\n",
       "    }\n",
       "</style>\n",
       "<table border=\"1\" class=\"dataframe\">\n",
       "  <thead>\n",
       "    <tr style=\"text-align: right;\">\n",
       "      <th></th>\n",
       "      <th>Year</th>\n",
       "      <th>Fires</th>\n",
       "      <th>Acres</th>\n",
       "    </tr>\n",
       "  </thead>\n",
       "  <tbody>\n",
       "    <tr>\n",
       "      <th>0</th>\n",
       "      <td>2000</td>\n",
       "      <td>7622</td>\n",
       "      <td>295026</td>\n",
       "    </tr>\n",
       "    <tr>\n",
       "      <th>1</th>\n",
       "      <td>2001</td>\n",
       "      <td>9458</td>\n",
       "      <td>329126</td>\n",
       "    </tr>\n",
       "    <tr>\n",
       "      <th>2</th>\n",
       "      <td>2002</td>\n",
       "      <td>8328</td>\n",
       "      <td>969890</td>\n",
       "    </tr>\n",
       "    <tr>\n",
       "      <th>3</th>\n",
       "      <td>2003</td>\n",
       "      <td>9116</td>\n",
       "      <td>1020460</td>\n",
       "    </tr>\n",
       "    <tr>\n",
       "      <th>4</th>\n",
       "      <td>2004</td>\n",
       "      <td>8415</td>\n",
       "      <td>264988</td>\n",
       "    </tr>\n",
       "  </tbody>\n",
       "</table>\n",
       "</div>"
      ],
      "text/plain": [
       "   Year  Fires    Acres\n",
       "0  2000   7622   295026\n",
       "1  2001   9458   329126\n",
       "2  2002   8328   969890\n",
       "3  2003   9116  1020460\n",
       "4  2004   8415   264988"
      ]
     },
     "execution_count": 6,
     "metadata": {},
     "output_type": "execute_result"
    }
   ],
   "source": [
    "fireData_df = pd.DataFrame(fireData)\n",
    "fireData_df.head()"
   ]
  },
  {
   "cell_type": "code",
   "execution_count": 7,
   "metadata": {},
   "outputs": [],
   "source": [
    "year = fireData_df[\"Year\"]\n",
    "acres = fireData_df[\"Acres\"]\n",
    "fires = fireData_df[\"Fires\"]\n",
    "tick_locations = [2000, 2005, 2010, 2015, 2020]"
   ]
  },
  {
   "cell_type": "code",
   "execution_count": 8,
   "metadata": {},
   "outputs": [
    {
     "data": {
      "image/png": "[encoded data removed]",
      "text/plain": [
       "<Figure size 432x288 with 1 Axes>"
      ]
     },
     "metadata": {
      "needs_background": "light"
     },
     "output_type": "display_data"
    }
   ],
   "source": [
    "# generate a scatter plot of year versus acres burned\n",
    "plt.scatter(year, acres, edgecolor=\"black\", marker=\"o\", alpha=.8, label=\"Fires\")\n",
    "plt.title(\"Acres Burned each Year\")\n",
    "plt.ylabel(\"Acres\")\n",
    "plt.xlabel(\"Year\")\n",
    "plt.grid(True)\n",
    "plt.xticks(tick_locations, tick_locations, rotation=\"vertical\")\n",
    "plt.tight_layout()\n",
    "\n",
    "plt.show()"
   ]
  },
  {
   "cell_type": "code",
   "execution_count": 9,
   "metadata": {},
   "outputs": [
    {
     "data": {
      "image/png": "[encoded data removed]",
      "text/plain": [
       "<Figure size 432x288 with 1 Axes>"
      ]
     },
     "metadata": {
      "needs_background": "light"
     },
     "output_type": "display_data"
    }
   ],
   "source": [
    "# generate a scatter plot of year versus acres burned\n",
    "\n",
    "plt.scatter(year, acres, edgecolor=\"black\", marker=\"o\", alpha=.8, label=\"Fires\")\n",
    "plt.title(\"Fire Count each Year\")\n",
    "plt.ylabel(\"Fires\")\n",
    "plt.xlabel(\"Year\")\n",
    "plt.grid(True)\n",
    "plt.xticks(tick_locations, tick_locations, rotation=\"vertical\")\n",
    "plt.tight_layout()\n",
    "\n",
    "plt.show()"
   ]
  },
  {
   "cell_type": "code",
   "execution_count": 10,
   "metadata": {},
   "outputs": [
    {
     "data": {
      "image/png": "[encoded data removed]",
      "text/plain": [
       "<Figure size 432x288 with 1 Axes>"
      ]
     },
     "metadata": {
      "needs_background": "light"
     },
     "output_type": "display_data"
    },
    {
     "name": "stdout",
     "output_type": "stream",
     "text": [
      "pvalue: 0.9562355227315593\n",
      "rsqrd: 0.00017200725803528192\n",
      "rvalue: -0.013115153755685898\n"
     ]
    }
   ],
   "source": [
    "# create linear regression graph for Years vs Fires\n",
    "\n",
    "x_values = fireData[\"Year\"]\n",
    "y_values = fireData[\"Fires\"]\n",
    "tick_locations = [2000, 2005, 2010, 2015, 2020]\n",
    "\n",
    "(slope, intercept, rvalue, pvalue, stderr) = linregress(x_values, y_values)\n",
    "regress_values = x_values * slope + intercept\n",
    "line_eq = \"y = \" + str(round(slope,2)) + \"x + \" + str(round(intercept,2))\n",
    "plt.scatter(x_values,y_values)\n",
    "plt.plot(x_values,regress_values,\"r-\")\n",
    "plt.annotate(line_eq,(2002,6000),fontsize=15,color=\"red\")\n",
    "plt.xticks(x_values, rotation=\"vertical\")\n",
    "plt.tight_layout()\n",
    "\n",
    "plt.xlabel(\"Year\")\n",
    "plt.ylabel(\"Number of Fires\")\n",
    "\n",
    "\n",
    "plt.show()\n",
    "print\n",
    "print(f\"pvalue: {pvalue}\")\n",
    "print(f\"rsqrd: {rvalue**2}\")\n",
    "print(f\"rvalue: {rvalue}\")"
   ]
  },
  {
   "cell_type": "code",
   "execution_count": 11,
   "metadata": {},
   "outputs": [
    {
     "data": {
      "image/png": "[encoded data removed]",
      "text/plain": [
       "<Figure size 432x288 with 1 Axes>"
      ]
     },
     "metadata": {
      "needs_background": "light"
     },
     "output_type": "display_data"
    },
    {
     "name": "stdout",
     "output_type": "stream",
     "text": [
      "pvalue: 0.22986823646548601\n",
      "rsqrd: 0.0790337242619478\n",
      "rvalue: 0.2811293728196109\n"
     ]
    }
   ],
   "source": [
    "# create linear regression graph for Years vs Acres\n",
    "\n",
    "x_values = fireData[\"Year\"]\n",
    "y_values = fireData[\"Acres\"]\n",
    "tick_locations = [2000, 2005, 2010, 2015, 2020]\n",
    "\n",
    "(slope, intercept, rvalue, pvalue, stderr) = linregress(x_values, y_values)\n",
    "regress_values = x_values * slope + intercept\n",
    "line_eq = \"y = \" + str(round(slope,2)) + \"x + \" + str(round(intercept,2))\n",
    "plt.scatter(x_values,y_values)\n",
    "plt.plot(x_values,regress_values,\"r-\")\n",
    "plt.annotate(line_eq,(2000,1750000),fontsize=15,color=\"red\")\n",
    "plt.xticks(tick_locations, tick_locations, rotation=\"vertical\")\n",
    "plt.tight_layout()\n",
    "\n",
    "plt.xlabel(\"Year\")\n",
    "plt.ylabel(\"Acres of Fire\")\n",
    "\n",
    "\n",
    "plt.show()\n",
    "print(f\"pvalue: {pvalue}\")\n",
    "print(f\"rsqrd: {rvalue**2}\")\n",
    "print(f\"rvalue: {rvalue}\")"
   ]
  },
  {
   "cell_type": "code",
   "execution_count": 12,
   "metadata": {},
   "outputs": [
    {
     "data": {
      "image/png": "[encoded data removed]",
      "text/plain": [
       "<Figure size 432x288 with 1 Axes>"
      ]
     },
     "metadata": {
      "needs_background": "light"
     },
     "output_type": "display_data"
    }
   ],
   "source": [
    "#create a line chart with acres burned and nbr of fires on y-axix\n",
    "\n",
    "#plt.figure()\n",
    "x_axis = np.arange(2000, 2019, 3)\n",
    "\n",
    "pointsA = [295026, 1020460, 736022, 422147, 869599, 893362, 1893913]\n",
    "plt.plot(x_axis, pointsA)\n",
    "\n",
    "plt.show()"
   ]
  },
  {
   "cell_type": "code",
   "execution_count": 13,
   "metadata": {},
   "outputs": [
    {
     "data": {
      "image/png": "[encoded data removed]",
      "text/plain": [
       "<Figure size 432x288 with 1 Axes>"
      ]
     },
     "metadata": {
      "needs_background": "light"
     },
     "output_type": "display_data"
    }
   ],
   "source": [
    "#create a line chart with acres burned and nbr of fires on y-axix\n",
    "\n",
    "#plt.figure()\n",
    "y_axis = np.arange(2000, 2019, 3)\n",
    "\n",
    "pointsF = [7622, 9116, 8202, 9159, 7950, 8745, 8572]\n",
    "plt.plot(x_axis, pointsF)\n",
    "\n",
    "plt.show()"
   ]
  },
  {
   "cell_type": "code",
   "execution_count": 14,
   "metadata": {},
   "outputs": [
    {
     "data": {
      "text/html": [
       "<div>\n",
       "<style scoped>\n",
       "    .dataframe tbody tr th:only-of-type {\n",
       "        vertical-align: middle;\n",
       "    }\n",
       "\n",
       "    .dataframe tbody tr th {\n",
       "        vertical-align: top;\n",
       "    }\n",
       "\n",
       "    .dataframe thead th {\n",
       "        text-align: right;\n",
       "    }\n",
       "</style>\n",
       "<table border=\"1\" class=\"dataframe\">\n",
       "  <thead>\n",
       "    <tr style=\"text-align: right;\">\n",
       "      <th></th>\n",
       "      <th>Year</th>\n",
       "      <th>Fires</th>\n",
       "      <th>Acres</th>\n",
       "    </tr>\n",
       "  </thead>\n",
       "  <tbody>\n",
       "    <tr>\n",
       "      <th>0</th>\n",
       "      <td>2000</td>\n",
       "      <td>7622</td>\n",
       "      <td>295026</td>\n",
       "    </tr>\n",
       "    <tr>\n",
       "      <th>1</th>\n",
       "      <td>2001</td>\n",
       "      <td>9458</td>\n",
       "      <td>329126</td>\n",
       "    </tr>\n",
       "    <tr>\n",
       "      <th>2</th>\n",
       "      <td>2002</td>\n",
       "      <td>8328</td>\n",
       "      <td>969890</td>\n",
       "    </tr>\n",
       "    <tr>\n",
       "      <th>3</th>\n",
       "      <td>2003</td>\n",
       "      <td>9116</td>\n",
       "      <td>1020460</td>\n",
       "    </tr>\n",
       "    <tr>\n",
       "      <th>4</th>\n",
       "      <td>2004</td>\n",
       "      <td>8415</td>\n",
       "      <td>264988</td>\n",
       "    </tr>\n",
       "  </tbody>\n",
       "</table>\n",
       "</div>"
      ],
      "text/plain": [
       "   Year  Fires    Acres\n",
       "0  2000   7622   295026\n",
       "1  2001   9458   329126\n",
       "2  2002   8328   969890\n",
       "3  2003   9116  1020460\n",
       "4  2004   8415   264988"
      ]
     },
     "execution_count": 14,
     "metadata": {},
     "output_type": "execute_result"
    }
   ],
   "source": [
    "fireData_df = pd.DataFrame(fireData)\n",
    "fireData_df.head()"
   ]
  },
  {
   "cell_type": "code",
   "execution_count": 18,
   "metadata": {
    "scrolled": true
   },
   "outputs": [
    {
     "data": {
      "image/png": "[encoded data removed]",
      "text/plain": [
       "<Figure size 432x288 with 1 Axes>"
      ]
     },
     "metadata": {
      "needs_background": "light"
     },
     "output_type": "display_data"
    }
   ],
   "source": [
    "# Set x axis and tick locations\n",
    "\n",
    "x_axis = np.arange(len(fireData_df))\n",
    "#tick_locations = [value+0.4 for value in x_axis]\n",
    "\n",
    "# Create a list indicating where to write x labels and set figure size to adjust for space\n",
    "plt.figure()\n",
    "plt.bar(x_axis, fireData_df[\"Acres\"], color='r', alpha=0.5, align=\"edge\")\n",
    "plt.xticks(tick_locations, fireData_df[\"Year\"], rotation=\"vertical\")\n",
    "\n",
    "plt.xlim(-0.25, len(x_axis))\n",
    "plt.ylim(0, max(fireData_df[\"Acres\"])+10)\n",
    "\n",
    "plt.title(\"Acres Burned each Year 2000-2019\")\n",
    "plt.xlabel(\"Year\")\n",
    "plt.ylabel(\"Acres\")\n",
    "\n",
    "plt.show()"
   ]
  },
  {
   "cell_type": "code",
   "execution_count": 22,
   "metadata": {},
   "outputs": [
    {
     "data": {
      "image/png": "[encoded data removed]",
      "text/plain": [
       "<Figure size 864x360 with 1 Axes>"
      ]
     },
     "metadata": {},
     "output_type": "display_data"
    }
   ],
   "source": [
    "# seaborn bar chart for average DSCI by year\n",
    "sns.set(style=\"darkgrid\")\n",
    "plt.figure(figsize=(12,5))\n",
    "ax = sns.barplot(x=\"Year\", y=\"Acres\", data=fireData_df, palette=\"colorblind\")"
   ]
  },
  {
   "cell_type": "code",
   "execution_count": 19,
   "metadata": {},
   "outputs": [
    {
     "data": {
      "image/png": "[encoded data removed]",
      "text/plain": [
       "<Figure size 432x288 with 1 Axes>"
      ]
     },
     "metadata": {
      "needs_background": "light"
     },
     "output_type": "display_data"
    }
   ],
   "source": [
    "# Set x axis and tick locations\n",
    "\n",
    "x_axis = np.arange(len(fireData_df))\n",
    "#tick_locations = [value+0.4 for value in x_axis]\n",
    "\n",
    "# Create a list indicating where to write x labels and set figure size to adjust for space\n",
    "plt.figure()\n",
    "plt.bar(x_axis, fireData_df[\"Fires\"], color='r', alpha=0.5, align=\"edge\")\n",
    "plt.xticks(tick_locations, fireData_df[\"Year\"], rotation=\"vertical\")\n",
    "\n",
    "plt.xlim(-0.25, len(x_axis))\n",
    "plt.ylim(0, max(fireData_df[\"Fires\"])+10)\n",
    "\n",
    "plt.title(\"Acres Burned each Year 2000-2019\")\n",
    "plt.xlabel(\"Year\")\n",
    "plt.ylabel(\"Acres\")\n",
    "\n",
    "plt.show()"
   ]
  },
  {
   "cell_type": "code",
   "execution_count": null,
   "metadata": {},
   "outputs": [],
   "source": [
    "# Melissa M Code End Here"
   ]
  },
  {
   "cell_type": "code",
   "execution_count": null,
   "metadata": {},
   "outputs": [],
   "source": [
    "# Anika Code Start Here"
   ]
  },
  {
   "cell_type": "code",
   "execution_count": null,
   "metadata": {},
   "outputs": [],
   "source": []
  },
  {
   "cell_type": "code",
   "execution_count": null,
   "metadata": {},
   "outputs": [],
   "source": [
    "#Anika Code End Here"
   ]
  },
  {
   "cell_type": "code",
   "execution_count": null,
   "metadata": {},
   "outputs": [],
   "source": [
    "# Melissa K Code Start Here"
   ]
  },
  {
   "cell_type": "code",
   "execution_count": null,
   "metadata": {},
   "outputs": [],
   "source": []
  },
  {
   "cell_type": "code",
   "execution_count": null,
   "metadata": {},
   "outputs": [],
   "source": [
    "#Melissa K Code End Here"
   ]
  },
  {
   "cell_type": "code",
   "execution_count": null,
   "metadata": {},
   "outputs": [],
   "source": [
    "# Liz Code Start Here"
   ]
  },
  {
   "cell_type": "code",
   "execution_count": null,
   "metadata": {},
   "outputs": [],
   "source": []
  },
  {
   "cell_type": "code",
   "execution_count": null,
   "metadata": {},
   "outputs": [],
   "source": [
    "#Liz Code End Here"
   ]
  },
  {
   "cell_type": "code",
   "execution_count": null,
   "metadata": {},
   "outputs": [],
   "source": []
  }
 ],
 "metadata": {
  "kernelspec": {
   "display_name": "Python 3",
   "language": "python",
   "name": "python3"
  },
  "language_info": {
   "codemirror_mode": {
    "name": "ipython",
    "version": 3
   },
   "file_extension": ".py",
   "mimetype": "text/x-python",
   "name": "python",
   "nbconvert_exporter": "python",
   "pygments_lexer": "ipython3",
   "version": "3.6.9"
  }
 },
 "nbformat": 4,
 "nbformat_minor": 2
}
