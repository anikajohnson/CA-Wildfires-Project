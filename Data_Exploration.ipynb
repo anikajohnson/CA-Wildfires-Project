{
 "cells": [
  {
   "cell_type": "code",
   "execution_count": null,
   "metadata": {},
   "outputs": [],
   "source": [
    "# import necessary packages\n",
    "\n",
    "import pandas as pd\n",
    "import os\n",
    "from datetime import datetime # I think this one can probably get deleted\n",
    "import matplotlib.pyplot as plt\n",
    "import numpy as np\n",
    "from scipy.stats import linregress\n",
    "import seaborn as sns\n",
    "sns.set()\n",
    "from matplotlib import rc\n"
   ]
  },
  {
   "cell_type": "code",
   "execution_count": null,
   "metadata": {},
   "outputs": [],
   "source": [
    "# Import Data as DataFrames\n",
    "fireData = pd.read_csv(\"Clean_Data/CA_WildFires.csv\")\n",
    "droughtData = pd.read_csv(\"Clean_Data/CA_Droughts.csv\")"
   ]
  },
  {
   "cell_type": "code",
   "execution_count": null,
   "metadata": {},
   "outputs": [],
   "source": [
    "# Melissa M code Start Here"
   ]
  },
  {
   "cell_type": "code",
   "execution_count": null,
   "metadata": {},
   "outputs": [],
   "source": []
  },
  {
   "cell_type": "code",
   "execution_count": null,
   "metadata": {},
   "outputs": [],
   "source": [
    "# Melissa M Code End Here"
   ]
  },
  {
   "cell_type": "code",
   "execution_count": null,
   "metadata": {},
   "outputs": [],
   "source": [
    "# Anika Code Start Here"
   ]
  },
  {
   "cell_type": "code",
   "execution_count": null,
   "metadata": {},
   "outputs": [],
   "source": []
  },
  {
   "cell_type": "markdown",
   "metadata": {},
   "source": [
    "# California Wildfires and Drought Conditions: a 20 year analysis\n",
    "\n",
    "   ### Group Members: \n",
    "   *Anika Johnson, Liz Jones, Melissa Keller, & Melissa Miller*\n"
   ]
  },
  {
   "cell_type": "markdown",
   "metadata": {},
   "source": []
  },
  {
   "cell_type": "markdown",
   "metadata": {},
   "source": []
  },
  {
   "cell_type": "code",
   "execution_count": null,
   "metadata": {},
   "outputs": [],
   "source": [
    "droughtData.head()"
   ]
  },
  {
   "cell_type": "code",
   "execution_count": null,
   "metadata": {},
   "outputs": [],
   "source": [
    "year_mean = droughtData.groupby('year').mean()\n",
    "year_mean_df = pd.DataFrame(year_mean)\n",
    "year_mean_df.head()\n"
   ]
  },
  {
   "cell_type": "code",
   "execution_count": null,
   "metadata": {},
   "outputs": [],
   "source": [
    "year_mean_df['year'] =year_mean_df.index\n",
    "year_mean_df.head()"
   ]
  },
  {
   "cell_type": "code",
   "execution_count": null,
   "metadata": {
    "scrolled": false
   },
   "outputs": [],
   "source": [
    "# DSCI Scatterplot with Linear Regression\n",
    "# What is the upper limit for the y-axis? look into max DSCI\n",
    "\n",
    "x_values = droughtData['year']\n",
    "y_values = droughtData['DSCI']\n",
    "\n",
    "(slope, intercept, rvalue, pvalue, stderr) = linregress(x_values, y_values)\n",
    "regress_values = x_values * slope + intercept\n",
    "line_eq = \"y = \" + str(round(slope,2)) + \"x + \" + str(round(intercept,2))\n",
    "\n",
    "plt.figure(figsize=(10,5))\n",
    "plt.scatter(x_values,y_values,edgecolors=\"black\")\n",
    "\n",
    "plt.plot(x_values,regress_values,\"r-\")\n",
    "plt.annotate(line_eq,(2000,1000),fontsize=15,color=\"red\")\n",
    "\n",
    "plt.xticks(x_values, rotation=90)\n",
    "plt.xlabel('Year')\n",
    "plt.ylabel('DSCI')\n",
    "plt.title('DSCI from 2000-2020')\n",
    "\n",
    "plt.show()\n",
    "print(f\"The r-value is: {rvalue}\")\n",
    "\n",
    "# Save an image of the chart\n",
    "#plt.savefig(\"../Images/DSCIScatterplot.png\")"
   ]
  },
  {
   "cell_type": "code",
   "execution_count": null,
   "metadata": {},
   "outputs": [],
   "source": [
    "# Mean DSCI Scatterplot with Linear Regression\n",
    "x_values = year_mean_df['year']\n",
    "y_values = year_mean_df['DSCI']\n",
    "\n",
    "(slope, intercept, rvalue, pvalue, stderr) = linregress(x_values, y_values)\n",
    "regress_values = x_values * slope + intercept\n",
    "line_eq = \"y = \" + str(round(slope,2)) + \"x + \" + str(round(intercept,2))\n",
    "\n",
    "plt.figure(figsize=(10,5))\n",
    "plt.scatter(x_values,y_values,edgecolors=\"black\")\n",
    "\n",
    "plt.plot(x_values,regress_values,\"r-\")\n",
    "plt.annotate(line_eq,(2000,1000),fontsize=15,color=\"red\")\n",
    "\n",
    "plt.xticks(x_values, rotation=90)\n",
    "plt.xlabel('Year')\n",
    "plt.ylabel('DSCI Value')\n",
    "plt.title('Mean DSCI from 2000-2020')\n",
    "plt.show()\n",
    "print(f\"The r-value is: {rvalue}\")\n",
    "\n",
    "# Save an image of the chart\n",
    "#plt.savefig(\"../Images/MeanDSCIScatterplot.png\")"
   ]
  },
  {
   "cell_type": "code",
   "execution_count": null,
   "metadata": {},
   "outputs": [],
   "source": [
    "# D4 Scatterplot with Linear Regression\n",
    "x_values = droughtData['year']\n",
    "y_values = droughtData['D4-Exceptional Drought']\n",
    "\n",
    "(slope, intercept, rvalue, pvalue, stderr) = linregress(x_values, y_values)\n",
    "regress_values = x_values * slope + intercept\n",
    "line_eq = \"y = \" + str(round(slope,2)) + \"x + \" + str(round(intercept,2))\n",
    "\n",
    "\n",
    "plt.figure(figsize=(10,5))\n",
    "plt.scatter(x_values,y_values,edgecolors=\"black\")\n",
    "\n",
    "plt.plot(x_values,regress_values,\"r-\")\n",
    "plt.annotate(line_eq,(2000,95),fontsize=15,color=\"red\")\n",
    "\n",
    "plt.xticks(x_values, rotation=90)\n",
    "plt.ylim((-5,105))\n",
    "plt.xlabel('Year')\n",
    "plt.ylabel('Percent of California in Exceptional Drought (D4)')\n",
    "plt.title('Exceptional Drought Conditions from 2000-2020')\n",
    "plt.show()\n",
    "print(f\"The r-value is: {rvalue}\")\n",
    "\n",
    "# Save an image of the chart\n",
    "#plt.savefig(\"../Images/D4Scatterplot.png\")"
   ]
  },
  {
   "cell_type": "code",
   "execution_count": null,
   "metadata": {},
   "outputs": [],
   "source": [
    "# D4 Mean Scatterplot with Linear Regression\n",
    "x_values = year_mean_df['year']\n",
    "y_values = year_mean_df['D4-Exceptional Drought']\n",
    "\n",
    "(slope, intercept, rvalue, pvalue, stderr) = linregress(x_values, y_values)\n",
    "regress_values = x_values * slope + intercept\n",
    "line_eq = \"y = \" + str(round(slope,2)) + \"x + \" + str(round(intercept,2))\n",
    "\n",
    "plt.figure(figsize=(10,5))\n",
    "plt.scatter(x_values,y_values,edgecolors=\"black\")\n",
    "\n",
    "plt.plot(x_values,regress_values,\"r-\")\n",
    "plt.annotate(line_eq,(2000,95),fontsize=15,color=\"red\")\n",
    "\n",
    "plt.xticks(x_values, rotation=90)\n",
    "plt.ylim((-5,105))\n",
    "plt.xlabel('Year')\n",
    "plt.ylabel('Mean Percent of California in Exceptional Drought (D4)')\n",
    "plt.title('Mean Exceptional Drought Conditions from 2000-2020')\n",
    "plt.show()\n",
    "print(f\"The r-value is: {rvalue}\")\n",
    "\n",
    "# Save an image of the chart\n",
    "#plt.savefig(\"../Images/MeanD4Scatterplot.png\")"
   ]
  },
  {
   "cell_type": "code",
   "execution_count": null,
   "metadata": {},
   "outputs": [],
   "source": [
    "# D3 Scatterplot with Linear Regression\n",
    "x_values = droughtData['year']\n",
    "y_values = droughtData['D3-Extreme Drought']\n",
    "\n",
    "(slope, intercept, rvalue, pvalue, stderr) = linregress(x_values, y_values)\n",
    "regress_values = x_values * slope + intercept\n",
    "line_eq = \"y = \" + str(round(slope,2)) + \"x + \" + str(round(intercept,2))\n",
    "\n",
    "plt.figure(figsize=(10,5))\n",
    "plt.scatter(x_values,y_values,edgecolors=\"black\")\n",
    "\n",
    "plt.plot(x_values,regress_values,\"r-\")\n",
    "plt.annotate(line_eq,(2000,75),fontsize=15,color=\"red\")\n",
    "\n",
    "plt.xticks(x_values, rotation=90)\n",
    "plt.ylim((-5,105))\n",
    "plt.xlabel('Year')\n",
    "plt.ylabel('Percent of California in Extreme Drought (D3)')\n",
    "plt.title('Extreme Drought Conditions from 2000-2020')\n",
    "plt.show()\n",
    "print(f\"The r-value is: {rvalue}\")\n",
    "\n",
    "# Save an image of the chart\n",
    "#plt.savefig(\"../Images/D3Scatterplot.png\")"
   ]
  },
  {
   "cell_type": "code",
   "execution_count": null,
   "metadata": {},
   "outputs": [],
   "source": [
    "# D3 Mean Scatterplot with Linear Regression\n",
    "x_values = year_mean_df['year']\n",
    "y_values = year_mean_df['D3-Extreme Drought']\n",
    "\n",
    "(slope, intercept, rvalue, pvalue, stderr) = linregress(x_values, y_values)\n",
    "regress_values = x_values * slope + intercept\n",
    "line_eq = \"y = \" + str(round(slope,2)) + \"x + \" + str(round(intercept,2))\n",
    "\n",
    "plt.figure(figsize=(10,5))\n",
    "plt.scatter(x_values,y_values,edgecolors=\"black\")\n",
    "\n",
    "plt.plot(x_values,regress_values,\"r-\")\n",
    "plt.annotate(line_eq,(2000,95),fontsize=15,color=\"red\")\n",
    "\n",
    "plt.xticks(x_values, rotation=90)\n",
    "plt.ylim((-5,105))\n",
    "plt.xlabel('Year')\n",
    "plt.ylabel('Mean Percent of California in Extreme Drought (D3)')\n",
    "plt.title('Mean Extreme Drought Conditions from 2000-2020')\n",
    "plt.show()\n",
    "print(f\"The r-value is: {rvalue}\")\n",
    "\n",
    "# Save an image of the chart\n",
    "#plt.savefig(\"../Images/MeanD3Scatterplot.png\")"
   ]
  },
  {
   "cell_type": "code",
   "execution_count": null,
   "metadata": {},
   "outputs": [],
   "source": [
    "# D2 Scatterplot with Linear Regression\n",
    "x_values = droughtData['year']\n",
    "y_values = droughtData['D2-Severe Drought']\n",
    "\n",
    "(slope, intercept, rvalue, pvalue, stderr) = linregress(x_values, y_values)\n",
    "regress_values = x_values * slope + intercept\n",
    "line_eq = \"y = \" + str(round(slope,2)) + \"x + \" + str(round(intercept,2))\n",
    "\n",
    "plt.figure(figsize=(10,5))\n",
    "plt.scatter(x_values,y_values,edgecolors=\"black\")\n",
    "\n",
    "plt.plot(x_values,regress_values,\"r-\")\n",
    "plt.annotate(line_eq,(2000,95),fontsize=15,color=\"red\")\n",
    "\n",
    "plt.xticks(x_values, rotation=90)\n",
    "plt.ylim((-5,105))\n",
    "plt.xlabel('Year')\n",
    "plt.ylabel('Percent of California in Severe Drought (D2)')\n",
    "plt.title('Severe Drought Conditions from 2000-2020')\n",
    "plt.show()\n",
    "print(f\"The r-value is: {rvalue}\")\n",
    "\n",
    "# Save an image of the chart\n",
    "#plt.savefig(\"../Images/D2Scatterplot.png\")"
   ]
  },
  {
   "cell_type": "code",
   "execution_count": null,
   "metadata": {},
   "outputs": [],
   "source": [
    "# D2 Mean Scatterplot with Linear Regression\n",
    "x_values = year_mean_df['year']\n",
    "y_values = year_mean_df['D2-Severe Drought']\n",
    "\n",
    "(slope, intercept, rvalue, pvalue, stderr) = linregress(x_values, y_values)\n",
    "regress_values = x_values * slope + intercept\n",
    "line_eq = \"y = \" + str(round(slope,2)) + \"x + \" + str(round(intercept,2))\n",
    "\n",
    "plt.figure(figsize=(10,5))\n",
    "plt.scatter(x_values,y_values,edgecolors=\"black\")\n",
    "\n",
    "plt.plot(x_values,regress_values,\"r-\")\n",
    "plt.annotate(line_eq,(2000,95),fontsize=15,color=\"red\")\n",
    "\n",
    "plt.xticks(x_values, rotation=90)\n",
    "plt.ylim((-5,105))\n",
    "plt.xlabel('Year')\n",
    "plt.ylabel('Mean Percent of California in Severe Drought (D2)')\n",
    "plt.title('Mean Severe Drought Conditions from 2000-2020')\n",
    "plt.show()\n",
    "print(f\"The r-value is: {rvalue}\")\n",
    "\n",
    "# Save an image of the chart\n",
    "#plt.savefig(\"../Images/MeanD2Scatterplot.png\")"
   ]
  },
  {
   "cell_type": "code",
   "execution_count": null,
   "metadata": {
    "scrolled": true
   },
   "outputs": [],
   "source": [
    "# D1 Scatterplot with Linear Regression\n",
    "x_values = droughtData['year']\n",
    "y_values = droughtData['D1-Moderate Drought']\n",
    "\n",
    "(slope, intercept, rvalue, pvalue, stderr) = linregress(x_values, y_values)\n",
    "regress_values = x_values * slope + intercept\n",
    "line_eq = \"y = \" + str(round(slope,2)) + \"x + \" + str(round(intercept,2))\n",
    "\n",
    "plt.figure(figsize=(10,5))\n",
    "plt.scatter(x_values,y_values,edgecolors=\"black\")\n",
    "\n",
    "plt.plot(x_values,regress_values,\"r-\")\n",
    "plt.annotate(line_eq,(2000,100),fontsize=15,color=\"red\")\n",
    "\n",
    "plt.xticks(x_values, rotation=90)\n",
    "plt.ylim((-5,105))\n",
    "plt.xlabel('Year')\n",
    "plt.ylabel('Percent of California in Moderate Drought (D1)')\n",
    "plt.title('Moderate Drought Conditions from 2000-2020')\n",
    "plt.show()\n",
    "print(f\"The r-value is: {rvalue}\")\n",
    "\n",
    "# Save an image of the chart\n",
    "#plt.savefig(\"../Images/D1Scatterplot.png\")"
   ]
  },
  {
   "cell_type": "code",
   "execution_count": null,
   "metadata": {},
   "outputs": [],
   "source": [
    "# D1 Mean Scatterplot with Linear Regression\n",
    "x_values = year_mean_df['year']\n",
    "y_values = year_mean_df['D1-Moderate Drought']\n",
    "\n",
    "(slope, intercept, rvalue, pvalue, stderr) = linregress(x_values, y_values)\n",
    "regress_values = x_values * slope + intercept\n",
    "line_eq = \"y = \" + str(round(slope,2)) + \"x + \" + str(round(intercept,2))\n",
    "\n",
    "plt.figure(figsize=(10,5))\n",
    "plt.scatter(x_values,y_values,edgecolors=\"black\")\n",
    "\n",
    "plt.plot(x_values,regress_values,\"r-\")\n",
    "plt.annotate(line_eq,(2000,95),fontsize=15,color=\"red\")\n",
    "\n",
    "plt.xticks(x_values, rotation=90)\n",
    "plt.ylim((-5,105))\n",
    "plt.xlabel('Year')\n",
    "plt.ylabel('Mean Percent of California in Moderate Drought (D1)')\n",
    "plt.title('Mean Moderate Drought Conditions from 2000-2020')\n",
    "plt.show()\n",
    "print(f\"The r-value is: {rvalue}\")\n",
    "\n",
    "# Save an image of the chart\n",
    "#plt.savefig(\"../Images/MeanD1Scatterplot.png\")"
   ]
  },
  {
   "cell_type": "code",
   "execution_count": null,
   "metadata": {
    "scrolled": true
   },
   "outputs": [],
   "source": [
    "# D0 Scatterplot with Linear Regression\n",
    "x_values = droughtData['year']\n",
    "y_values = droughtData['D0-Abnormally Dry']\n",
    "\n",
    "(slope, intercept, rvalue, pvalue, stderr) = linregress(x_values, y_values)\n",
    "regress_values = x_values * slope + intercept\n",
    "line_eq = \"y = \" + str(round(slope,2)) + \"x + \" + str(round(intercept,2))\n",
    "\n",
    "plt.figure(figsize=(10,5))\n",
    "plt.scatter(x_values,y_values,edgecolors=\"black\")\n",
    "\n",
    "plt.plot(x_values,regress_values,\"r-\")\n",
    "plt.annotate(line_eq,(2008,40),fontsize=15,color=\"red\")\n",
    "\n",
    "plt.xticks(x_values, rotation=90)\n",
    "plt.ylim((-5,105))\n",
    "plt.xlabel('Year')\n",
    "plt.ylabel('Percent of California in Abnormally Dry (D0)')\n",
    "plt.title('Abnormally Dry Conditions from 2000-2020')\n",
    "plt.show()\n",
    "print(f\"The r-value is: {rvalue}\")\n",
    "\n",
    "# Save an image of the chart\n",
    "#plt.savefig(\"../Images/D0Scatterplot.png\")"
   ]
  },
  {
   "cell_type": "code",
   "execution_count": null,
   "metadata": {},
   "outputs": [],
   "source": [
    "# D0 Mean Scatterplot with Linear Regression\n",
    "x_values = year_mean_df['year']\n",
    "y_values = year_mean_df['D0-Abnormally Dry']\n",
    "\n",
    "(slope, intercept, rvalue, pvalue, stderr) = linregress(x_values, y_values)\n",
    "regress_values = x_values * slope + intercept\n",
    "line_eq = \"y = \" + str(round(slope,2)) + \"x + \" + str(round(intercept,2))\n",
    "\n",
    "plt.figure(figsize=(10,5))\n",
    "plt.scatter(x_values,y_values,edgecolors=\"black\")\n",
    "\n",
    "plt.plot(x_values,regress_values,\"r-\")\n",
    "plt.annotate(line_eq,(2000,95),fontsize=15,color=\"red\")\n",
    "\n",
    "plt.xticks(x_values, rotation=90)\n",
    "plt.ylim((-5,105))\n",
    "plt.xlabel('Year')\n",
    "plt.ylabel('Mean Percent of California in Abnormally Dry (D0)')\n",
    "plt.title('Mean Abnormally Dry Conditions from 2000-2020')\n",
    "plt.show()\n",
    "print(f\"The r-value is: {rvalue}\")\n",
    "\n",
    "# Save an image of the chart\n",
    "#plt.savefig(\"../Images/MeanD0Scatterplot.png\")"
   ]
  },
  {
   "cell_type": "code",
   "execution_count": null,
   "metadata": {},
   "outputs": [],
   "source": [
    "# None Scatterplot with Linear Regression\n",
    "x_values = droughtData['year']\n",
    "y_values = droughtData['No Drought']\n",
    "\n",
    "(slope, intercept, rvalue, pvalue, stderr) = linregress(x_values, y_values)\n",
    "regress_values = x_values * slope + intercept\n",
    "line_eq = \"y = \" + str(round(slope,2)) + \"x + \" + str(round(intercept,2))\n",
    "\n",
    "plt.figure(figsize=(10,5))\n",
    "plt.scatter(x_values,y_values,edgecolors=\"black\")\n",
    "\n",
    "plt.plot(x_values,regress_values,\"r-\")\n",
    "plt.annotate(line_eq,(2008,55),fontsize=15,color=\"red\")\n",
    "\n",
    "plt.xticks(x_values, rotation=90)\n",
    "plt.ylim((-5,105))\n",
    "plt.xlabel('Year')\n",
    "plt.ylabel('Percent of California in No Drought (D0)')\n",
    "plt.title('Non-Drought Conditions from 2000-2020')\n",
    "plt.show()\n",
    "print(f\"The r-value is: {rvalue}\")\n",
    "\n",
    "# Save an image of the chart\n",
    "#plt.savefig(\"../Images/NoneScatterplot.png\")"
   ]
  },
  {
   "cell_type": "code",
   "execution_count": null,
   "metadata": {
    "scrolled": false
   },
   "outputs": [],
   "source": [
    "# None Mean Scatterplot with Linear Regression\n",
    "x_values = year_mean_df['year']\n",
    "y_values = year_mean_df['No Drought']\n",
    "\n",
    "(slope, intercept, rvalue, pvalue, stderr) = linregress(x_values, y_values)\n",
    "regress_values = x_values * slope + intercept\n",
    "line_eq = \"y = \" + str(round(slope,2)) + \"x + \" + str(round(intercept,2))\n",
    "\n",
    "plt.figure(figsize=(10,5))\n",
    "plt.scatter(x_values,y_values,edgecolors=\"black\")\n",
    "\n",
    "plt.plot(x_values,regress_values,\"r-\")\n",
    "plt.annotate(line_eq,(2000,97),fontsize=15,color=\"red\")\n",
    "\n",
    "plt.xticks(x_values, rotation=90)\n",
    "plt.ylim((-5,105))\n",
    "plt.xlabel('Year')\n",
    "plt.ylabel('Mean Percent of California in No Drought (D0)')\n",
    "plt.title('Mean Non-Drought Conditions from 2000-2020')\n",
    "plt.show()\n",
    "print(f\"The r-value is: {rvalue}\")\n",
    "\n",
    "# Save an image of the chart\n",
    "#plt.savefig(\"../Images/MeanNoneScatterplot.png\")"
   ]
  },
  {
   "cell_type": "code",
   "execution_count": null,
   "metadata": {},
   "outputs": [],
   "source": [
    "def linreg(x_values, y_values):\n",
    "    (slope, intercept, rvalue, pvalue, stderr) = linregress(x_values, y_values)\n",
    "    regress_values = x_values * slope + intercept\n",
    "    line_eq = \"y = \" + str(round(slope,2)) + \"x + \" + str(round(intercept,2))\n",
    "\n",
    "    #plt.scatter(x_values,y_values)\n",
    "    plt.plot(x_values,regress_values,\"r-\")\n",
    "    \n",
    "    #plt.annotate(line_eq, (2000,97),fontsize=15,color=\"red\")\n",
    " "
   ]
  },
  {
   "cell_type": "code",
   "execution_count": null,
   "metadata": {},
   "outputs": [],
   "source": [
    "fig, axs = plt.subplots(2,3)\n",
    "fig.suptitle(\"Drought Qualifications in California 2000-2020\")\n",
    "\n",
    "x_values=year_mean_df[\"year\"]\n",
    "y1_values=year_mean_df[\"No Drought\"]\n",
    "y2_values=year_mean_df[\"D0-Abnormally Dry\"]\n",
    "y3_values=year_mean_df[\"D1-Moderate Drought\"]\n",
    "y4_values=year_mean_df[\"D2-Severe Drought\"]\n",
    "y5_values=year_mean_df[\"D3-Extreme Drought\"]\n",
    "y6_values=year_mean_df[\"D4-Exceptional Drought\"]\n",
    "\n",
    "\n",
    "axs[0][0].scatter(year_mean_df[\"year\"], year_mean_df[\"No Drought\"])\n",
    "axs[0][0].set_title(\"No Drought\")\n",
    "axs[0][0].set_ylabel(\"% of California\")\n",
    "axs[0][0].set_ylim([-5,105])\n",
    "axs[0][0].set_xlim([1999,2020])\n",
    "linreg(x_values, y1_values)\n",
    "axs[0][0].annotate(line_eq, (2000,97),fontsize=15,color=\"red\")\n",
    "\n",
    "axs[0][1].scatter(year_mean_df[\"year\"], year_mean_df[\"D0-Abnormally Dry\"])\n",
    "axs[0][1].set_title(\"Abnormally Dry\")\n",
    "axs[0][1].set_ylabel(\"% of California\")\n",
    "axs[0][1].set_ylim([-5,105])\n",
    "axs[0][1].set_xlim([1999,2020])\n",
    "linreg(x_values, y2_values)\n",
    "\n",
    "axs[0][2].scatter(year_mean_df[\"year\"], year_mean_df[\"D1-Moderate Drought\"])\n",
    "axs[0][2].set_title(\"Moderate Drought\")\n",
    "axs[0][2].set_ylabel(\"% of California\")\n",
    "axs[0][2].set_ylim([-5,105])\n",
    "axs[0][2].set_xlim([1999,2020])\n",
    "linreg(x_values, y3_values)\n",
    "\n",
    "axs[1][0].scatter(year_mean_df[\"year\"], year_mean_df[\"D2-Severe Drought\"])\n",
    "axs[1][0].set_title(\"Severe Drought\")\n",
    "axs[1][0].set_ylabel(\"% of California\")\n",
    "axs[1][0].set_ylim([-5,105])\n",
    "axs[1][0].set_xlim([1999,2020])\n",
    "linreg(x_values, y4_values)\n",
    "\n",
    "axs[1][1].scatter(year_mean_df[\"year\"], year_mean_df[\"D3-Extreme Drought\"])\n",
    "axs[1][1].set_title(\"Extreme Drought\")\n",
    "axs[1][1].set_ylabel(\"% of California\")\n",
    "axs[1][1].set_ylim([-5,105])\n",
    "axs[1][1].set_xlim([1999,2020])\n",
    "linreg(x_values, y5_values)\n",
    "\n",
    "axs[1][2].scatter(year_mean_df[\"year\"], year_mean_df[\"D4-Exceptional Drought\"])\n",
    "axs[1][2].set_title(\"Exceptional Drought\")\n",
    "axs[1][2].set_ylabel(\"% of California\")\n",
    "axs[1][2].set_ylim([-5,105])\n",
    "axs[1][2].set_xlim([1999,2020])\n",
    "linreg(x_values, y6_values)\n",
    "\n",
    "                  \n",
    "plt.subplots_adjust(left = 0.1, bottom = None, right = 2.75, top = None, wspace = 0.5, hspace = 0.5)\n",
    "plt.show()"
   ]
  },
  {
   "cell_type": "code",
   "execution_count": null,
   "metadata": {},
   "outputs": [],
   "source": [
    "#Anika Code End Here"
   ]
  },
  {
   "cell_type": "code",
   "execution_count": null,
   "metadata": {},
   "outputs": [],
   "source": [
    "# Melissa K Code Start Here"
   ]
  },
  {
   "cell_type": "code",
   "execution_count": null,
   "metadata": {},
   "outputs": [],
   "source": [
    "droughtData[\"DSCI\"] = droughtData[\"Abnormally Dry\"]+ (2 * droughtData[\"Moderate Drought\"]) + \\\n",
    "                        (3 * droughtData[\"Severe Drought\"]) + (4 * droughtData[\"Extreme Drought\"] + \\\n",
    "                                                                (5 * droughtData[\"Exceptional Drought\"]))\n",
    "droughtData.head()"
   ]
  },
  {
   "cell_type": "code",
   "execution_count": null,
   "metadata": {},
   "outputs": [],
   "source": [
    "droughtGroupYear = droughtData.groupby(droughtData[\"Year\"])\n",
    "exceptionalMean = droughtGroupYear[\"Exceptional Drought\"].mean()\n",
    "extremeMean = droughtGroupYear[\"Extreme Drought\"].mean()\n",
    "severeMean = droughtGroupYear[\"Severe Drought\"].mean()\n",
    "moderateMean = droughtGroupYear[\"Moderate Drought\"].mean()\n",
    "abnormallyDryMean = droughtGroupYear[\"Abnormally Dry\"].mean()\n",
    "noDroughtMean = droughtGroupYear[\"No Drought\"].mean()\n",
    "\n",
    "droughtLevelMeansDF = pd.DataFrame({\"Exceptional\": exceptionalMean, \"Extreme\":extremeMean, \"Severe\":severeMean,\n",
    "                   \"Moderate\":moderateMean, \"Abnormally Dry\": abnormallyDryMean, \"No Drought\": noDroughtMean})\n",
    "pal = sns.color_palette(\"Reds\")\n",
    "\n",
    "\n",
    "droughtLevelMeansDF.plot.area(color=pal)"
   ]
  },
  {
   "cell_type": "code",
   "execution_count": null,
   "metadata": {},
   "outputs": [],
   "source": []
  },
  {
   "cell_type": "code",
   "execution_count": null,
   "metadata": {},
   "outputs": [],
   "source": [
    "#Melissa K Code End Here"
   ]
  },
  {
   "cell_type": "code",
   "execution_count": null,
   "metadata": {},
   "outputs": [],
   "source": [
    "# Liz Code Start Here"
   ]
  },
  {
   "cell_type": "code",
   "execution_count": null,
   "metadata": {},
   "outputs": [],
   "source": []
  },
  {
   "cell_type": "code",
   "execution_count": null,
   "metadata": {},
   "outputs": [],
   "source": [
    "#Liz Code End Here"
   ]
  },
  {
   "cell_type": "code",
   "execution_count": null,
   "metadata": {},
   "outputs": [],
   "source": []
  }
 ],
 "metadata": {
  "kernelspec": {
   "display_name": "Python 3",
   "language": "python",
   "name": "python3"
  },
  "language_info": {
   "codemirror_mode": {
    "name": "ipython",
    "version": 3
   },
   "file_extension": ".py",
   "mimetype": "text/x-python",
   "name": "python",
   "nbconvert_exporter": "python",
   "pygments_lexer": "ipython3",
   "version": "3.6.9"
  }
 },
 "nbformat": 4,
 "nbformat_minor": 2
}
