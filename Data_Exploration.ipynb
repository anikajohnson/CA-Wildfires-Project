{
 "cells": [
  {
   "cell_type": "code",
   "execution_count": null,
   "metadata": {},
   "outputs": [],
   "source": [
    "# import necessary packages\n",
    "\n",
    "import pandas as pd\n",
    "import os\n",
    "from datetime import datetime # I think this one can probably get deleted\n",
    "import matplotlib.pyplot as plt\n",
    "import numpy as np\n",
    "from scipy.stats import linregress\n",
    "import seaborn as sns\n",
    "sns.set()\n",
    "from matplotlib import rc\n",
    "\n",
    "\n",
    "%matplotlib notebook"
   ]
  },
  {
   "cell_type": "code",
   "execution_count": null,
   "metadata": {},
   "outputs": [],
   "source": [
    "# Import Data as DataFrames\n",
    "fireData = pd.read_csv(\"Clean_Data/CA_WildFires.csv\")\n",
    "droughtData = pd.read_csv(\"Clean_Data/CA_Droughts.csv\")"
   ]
  },
  {
   "cell_type": "code",
   "execution_count": null,
   "metadata": {},
   "outputs": [],
   "source": [
    "# Melissa M code Start Here"
   ]
  },
  {
   "cell_type": "code",
   "execution_count": null,
   "metadata": {},
   "outputs": [],
   "source": []
  },
  {
   "cell_type": "code",
   "execution_count": null,
   "metadata": {},
   "outputs": [],
   "source": [
    "# Melissa M Code End Here"
   ]
  },
  {
   "cell_type": "code",
   "execution_count": null,
   "metadata": {},
   "outputs": [],
   "source": [
    "# Anika Code Start Here"
   ]
  },
  {
   "cell_type": "code",
   "execution_count": null,
   "metadata": {},
   "outputs": [],
   "source": [
    "# DSCI Scatterplot with Linear Regression\n",
    "# What is the upper limit for the y-axis? look into max DSCI\n",
    "x_values = droughtData['year']\n",
    "y_values = droughtData['DSCI']\n",
    "\n",
    "(slope, intercept, rvalue, pvalue, stderr) = linregress(x_values, y_values)\n",
    "regress_values = x_values * slope + intercept\n",
    "line_eq = \"y = \" + str(round(slope,2)) + \"x + \" + str(round(intercept,2))\n",
    "\n",
    "plt.scatter(x_values,y_values,edgecolors=\"black\")\n",
    "\n",
    "plt.plot(x_values,regress_values,\"r-\")\n",
    "plt.annotate(line_eq,(2000,1000),fontsize=15,color=\"red\")\n",
    "\n",
    "plt.xticks(x_values, rotation=90)\n",
    "plt.xlabel('Year')\n",
    "plt.ylabel('DSCI')\n",
    "plt.title('DSCI from 2000-2020')\n",
    "plt.show()\n",
    "print(f\"The r-squared is: {rvalue}\")\n",
    "\n",
    "# Save an image of the chart\n",
    "#plt.savefig(\"../Images/DSCIScatterplot.png\")"
   ]
  },
  {
   "cell_type": "code",
   "execution_count": null,
   "metadata": {},
   "outputs": [],
   "source": [
    "# D4 Scatterplot with Linear Regression\n",
    "x_values = droughtData['year']\n",
    "y_values = droughtData['D4-Exceptional Drought']\n",
    "\n",
    "(slope, intercept, rvalue, pvalue, stderr) = linregress(x_values, y_values)\n",
    "regress_values = x_values * slope + intercept\n",
    "line_eq = \"y = \" + str(round(slope,2)) + \"x + \" + str(round(intercept,2))\n",
    "\n",
    "plt.scatter(x_values,y_values,edgecolors=\"black\")\n",
    "\n",
    "plt.plot(x_values,regress_values,\"r-\")\n",
    "plt.annotate(line_eq,(2000,55),fontsize=15,color=\"red\")\n",
    "\n",
    "plt.xticks(x_values, rotation=90)\n",
    "plt.ylim((-5,100))\n",
    "plt.xlabel('Year')\n",
    "plt.ylabel('Percent of California in Exceptional Drought (D4)')\n",
    "plt.title('Exceptional Drought Conditions from 2000-2020')\n",
    "plt.show()\n",
    "print(f\"The r-squared is: {rvalue}\")\n",
    "\n",
    "# Save an image of the chart\n",
    "#plt.savefig(\"../Images/D4Scatterplot.png\")"
   ]
  },
  {
   "cell_type": "code",
   "execution_count": null,
   "metadata": {},
   "outputs": [],
   "source": [
    "# D3 Scatterplot with Linear Regression\n",
    "x_values = droughtData['year']\n",
    "y_values = droughtData['D3-Extreme Drought']\n",
    "\n",
    "(slope, intercept, rvalue, pvalue, stderr) = linregress(x_values, y_values)\n",
    "regress_values = x_values * slope + intercept\n",
    "line_eq = \"y = \" + str(round(slope,2)) + \"x + \" + str(round(intercept,2))\n",
    "\n",
    "plt.scatter(x_values,y_values,edgecolors=\"black\")\n",
    "\n",
    "plt.plot(x_values,regress_values,\"r-\")\n",
    "plt.annotate(line_eq,(2000,75),fontsize=15,color=\"red\")\n",
    "\n",
    "plt.xticks(x_values, rotation=90)\n",
    "plt.ylim((-5,100))\n",
    "plt.xlabel('Year')\n",
    "plt.ylabel('Percent of California in Extreme Drought (D3)')\n",
    "plt.title('Extreme Drought Conditions from 2000-2020')\n",
    "plt.show()\n",
    "print(f\"The r-squared is: {rvalue}\")\n",
    "\n",
    "# Save an image of the chart\n",
    "#plt.savefig(\"../Images/D3Scatterplot.png\")"
   ]
  },
  {
   "cell_type": "code",
   "execution_count": null,
   "metadata": {},
   "outputs": [],
   "source": [
    "# D2 Scatterplot with Linear Regression\n",
    "x_values = droughtData['year']\n",
    "y_values = droughtData['D2-Severe Drought']\n",
    "\n",
    "(slope, intercept, rvalue, pvalue, stderr) = linregress(x_values, y_values)\n",
    "regress_values = x_values * slope + intercept\n",
    "line_eq = \"y = \" + str(round(slope,2)) + \"x + \" + str(round(intercept,2))\n",
    "\n",
    "plt.scatter(x_values,y_values,edgecolors=\"black\")\n",
    "\n",
    "plt.plot(x_values,regress_values,\"r-\")\n",
    "plt.annotate(line_eq,(2000,95),fontsize=15,color=\"red\")\n",
    "\n",
    "plt.xticks(x_values, rotation=90)\n",
    "plt.ylim((-5,100))\n",
    "plt.xlabel('Year')\n",
    "plt.ylabel('Percent of California in Severe Drought (D2)')\n",
    "plt.title('Extreme Drought Conditions from 2000-2020')\n",
    "plt.show()\n",
    "print(f\"The r-squared is: {rvalue}\")\n",
    "\n",
    "# Save an image of the chart\n",
    "#plt.savefig(\"../Images/D2Scatterplot.png\")"
   ]
  },
  {
   "cell_type": "code",
   "execution_count": null,
   "metadata": {},
   "outputs": [],
   "source": [
    "# D1 Scatterplot with Linear Regression\n",
    "x_values = droughtData['year']\n",
    "y_values = droughtData['D1-Moderate Drought']\n",
    "\n",
    "(slope, intercept, rvalue, pvalue, stderr) = linregress(x_values, y_values)\n",
    "regress_values = x_values * slope + intercept\n",
    "line_eq = \"y = \" + str(round(slope,2)) + \"x + \" + str(round(intercept,2))\n",
    "\n",
    "plt.scatter(x_values,y_values,edgecolors=\"black\")\n",
    "\n",
    "plt.plot(x_values,regress_values,\"r-\")\n",
    "plt.annotate(line_eq,(2000,100),fontsize=15,color=\"red\")\n",
    "\n",
    "plt.xticks(x_values, rotation=90)\n",
    "plt.xlabel('Year')\n",
    "plt.ylabel('Percent of California in Moderate Drought (D1)')\n",
    "plt.title('Moderate Drought Conditions from 2000-2020')\n",
    "plt.show()\n",
    "print(f\"The r-squared is: {rvalue}\")\n",
    "\n",
    "# Save an image of the chart\n",
    "#plt.savefig(\"../Images/D1Scatterplot.png\")"
   ]
  },
  {
   "cell_type": "code",
   "execution_count": null,
   "metadata": {
    "scrolled": true
   },
   "outputs": [],
   "source": [
    "# D0 Scatterplot with Linear Regression\n",
    "x_values = droughtData['year']\n",
    "y_values = droughtData['D0-Abnormally Dry']\n",
    "\n",
    "(slope, intercept, rvalue, pvalue, stderr) = linregress(x_values, y_values)\n",
    "regress_values = x_values * slope + intercept\n",
    "line_eq = \"y = \" + str(round(slope,2)) + \"x + \" + str(round(intercept,2))\n",
    "\n",
    "plt.scatter(x_values,y_values,edgecolors=\"black\")\n",
    "\n",
    "plt.plot(x_values,regress_values,\"r-\")\n",
    "plt.annotate(line_eq,(2008,40),fontsize=15,color=\"red\")\n",
    "\n",
    "plt.xticks(x_values, rotation=90)\n",
    "plt.xlabel('Year')\n",
    "plt.ylabel('Percent of California in Abnormally Dry (D0)')\n",
    "plt.title('Abnormally Dry Conditions from 2000-2020')\n",
    "plt.show()\n",
    "print(f\"The r-squared is: {rvalue}\")\n",
    "\n",
    "# Save an image of the chart\n",
    "#plt.savefig(\"../Images/D0Scatterplot.png\")"
   ]
  },
  {
   "cell_type": "code",
   "execution_count": null,
   "metadata": {},
   "outputs": [],
   "source": [
    "# None Scatterplot with Linear Regression\n",
    "x_values = droughtData['year']\n",
    "y_values = droughtData['No Drought']\n",
    "\n",
    "(slope, intercept, rvalue, pvalue, stderr) = linregress(x_values, y_values)\n",
    "regress_values = x_values * slope + intercept\n",
    "line_eq = \"y = \" + str(round(slope,2)) + \"x + \" + str(round(intercept,2))\n",
    "\n",
    "plt.scatter(x_values,y_values,edgecolors=\"black\")\n",
    "\n",
    "plt.plot(x_values,regress_values,\"r-\")\n",
    "plt.annotate(line_eq,(2008,55),fontsize=15,color=\"red\")\n",
    "\n",
    "plt.xticks(x_values, rotation=90)\n",
    "plt.xlabel('Year')\n",
    "plt.ylabel('Percent of California in No Drought (D0)')\n",
    "plt.title('Non-Drought Conditions from 2000-2020')\n",
    "plt.show()\n",
    "print(f\"The r-squared is: {rvalue}\")\n",
    "\n",
    "# Save an image of the chart\n",
    "#plt.savefig(\"../Images/NoneScatterplot.png\")"
   ]
  },
  {
   "cell_type": "code",
   "execution_count": null,
   "metadata": {},
   "outputs": [],
   "source": [
    "droughtGroupYear = droughtData.groupby(droughtData[\"year\"])\n",
    "exceptionalMean = droughtGroupYear[\"D4-Exceptional Drought\"].mean()\n",
    "extremeMean = droughtGroupYear[\"D3-Extreme Drought\"].mean()\n",
    "severeMean = droughtGroupYear[\"D2-Severe Drought\"].mean()\n",
    "moderateMean = droughtGroupYear[\"D1-Moderate Drought\"].mean()\n",
    "abnormallyDryMean = droughtGroupYear[\"D0-Abnormally Dry\"].mean()\n",
    "noDroughtMean = droughtGroupYear[\"No Drought\"].mean()\n",
    "\n",
    "\n",
    "# Values of each group\n",
    "bars1 = exceptionalMean\n",
    "bars2 = extremeMean\n",
    "bars3 = severeMean\n",
    "bars4 = moderateMean\n",
    "bars5 = abnormallyDryMean\n",
    "bars6 = noDroughtMean\n",
    "\n",
    "# Heights of bars1 + bars2\n",
    "bars12 = bars1 + bars2\n",
    "bars123 = bars1 + bars2 + bars3\n",
    "bars1234 = bars1 + bars2 + bars3 + bars4\n",
    "bars12345 = bars1 + bars2 + bars3 + bars4 + bars5\n",
    "\n",
    "# The position of the bars on the x-axis\n",
    "r = [0,1,2,3,4,5]\n",
    "\n",
    "# Names of group and bar width\n",
    "names = droughtData['year']\n",
    "barWidth = 1\n",
    "\n",
    "# exceptionalMean color\n",
    "plt.bar(r, bars1, color='#CD6155', edgecolor='white', width=barWidth)\n",
    "# extremeMean color\n",
    "plt.bar(r, bars2, bottom=bars1, color='#DC7633', edgecolor='white', width=barWidth)\n",
    "# severeMean color\n",
    "plt.bar(r, bars3, bottom=bars12, color='#EB984E', edgecolor='white', width=barWidth)\n",
    "# moderateMean color\n",
    "plt.bar(r, bars4, bottom=bars123, color='#F5B041', edgecolor='white', width=barWidth)\n",
    "# Create green bars (middle), on top of the firs ones\n",
    "plt.bar(r, bars5, bottom=bars1234, color='#F4D03F', edgecolor='white', width=barWidth)\n",
    "# Create green bars (top)\n",
    "plt.bar(r, bars6, bottom=bars12345, color='#CACFD2', edgecolor='white', width=barWidth)\n",
    "\n",
    "# Custom X axis\n",
    "plt.xticks(r, names, fontweight='bold')\n",
    "plt.xlabel(\"Percent in Drought\")\n",
    "plt.ylabel(\"Years\")\n",
    "# Show graphic\n",
    "plt.show()\n",
    "\n",
    "\n",
    "#droughtLevelMeansDF = pd.DataFrame({\"Exceptional\": exceptionalMean, \"Extreme\":extremeMean, \"Severe\":severeMean,\n",
    "                   #\"Moderate\":moderateMean, \"Abnormally Dry\": abnormallyDryMean, \"No Drought\": noDroughtMean})\n",
    "#pal = sns.color_palette(\"Reds\")\n",
    "#droughtLevelMeansDF.plot.area(color=pal)"
   ]
  },
  {
   "cell_type": "code",
   "execution_count": null,
   "metadata": {},
   "outputs": [],
   "source": [
    "#for each year get the mean value for each \n",
    "droughtGroupYear = droughtData.groupby(droughtData[\"year\"])\n",
    "droughtGroupYear.head()\n"
   ]
  },
  {
   "cell_type": "code",
   "execution_count": null,
   "metadata": {},
   "outputs": [],
   "source": [
    "# Data (needs value conversion, composite of each years values?)\n",
    " \n",
    "# From raw value to percentage (should it be droughtData['No Drought'] + droughtData['D0-Abnormally Dry']?)\n",
    "#totals = [h+i for h,i in zip droughtData['No Drought'], droughtData['D0-Abnormally Dry']] \n",
    "\n",
    "totals = [h+i+j+k+l for h,i,j,k,l in zip(droughtData['D0-Abnormally Dry'],\n",
    "                                 droughtData['D1-Moderate Drought'], \n",
    "                                 droughtData['D2-Severe Drought'], \n",
    "                                 droughtData['D3-Extreme Drought'], \n",
    "                                 droughtData['D4-Exceptional Drought'])]\n",
    "\n",
    "D0_drought= [i / j * 100 for i,j in zip(df['D0-Abnormally Dry'], totals)]\n",
    "D1_drought = [i / j * 100 for i,j in zip(df['D1-Moderate Drought'], totals)]\n",
    "D2_drought = [i / j * 100 for i,j in zip(df['D2-Severe Drought'], totals)]\n",
    "D3_drought = [i / j * 100 for i,j in zip(df['D3-Extreme Drought'], totals)]\n",
    "D4_drought = [i / j * 100 for i,j in zip(df['D4-Exceptional Drought'], totals)]\n",
    "\n",
    "# plot\n",
    "barWidth = 0.85\n",
    "names = (droughtData[\"Date\"])\n",
    "# Create green Bars\n",
    "plt.bar(r, greenBars, color='#b5ffb9', edgecolor='white', width=barWidth)\n",
    "# Create orange Bars\n",
    "plt.bar(r, orangeBars, bottom=greenBars, color='#f9bc86', edgecolor='white', width=barWidth)\n",
    "# Create blue Bars\n",
    "plt.bar(r, blueBars, bottom=[i+j for i,j in zip(greenBars, orangeBars)], color='#a3acff', edgecolor='white', width=barWidth)\n",
    " \n",
    "# Custom x axis\n",
    "plt.xticks(r, names)\n",
    "plt.xlabel(\"group\")\n",
    " \n",
    "# Show graphic\n",
    "plt.show()\n"
   ]
  },
  {
   "cell_type": "code",
   "execution_count": null,
   "metadata": {},
   "outputs": [],
   "source": [
    "#Anika Code End Here"
   ]
  },
  {
   "cell_type": "code",
   "execution_count": null,
   "metadata": {},
   "outputs": [],
   "source": [
    "# Melissa K Code Start Here"
   ]
  },
  {
   "cell_type": "code",
   "execution_count": null,
   "metadata": {},
   "outputs": [],
   "source": [
    "droughtData[\"DSCI\"] = droughtData[\"Abnormally Dry\"]+ (2 * droughtData[\"Moderate Drought\"]) + \\\n",
    "                        (3 * droughtData[\"Severe Drought\"]) + (4 * droughtData[\"Extreme Drought\"] + \\\n",
    "                                                                (5 * droughtData[\"Exceptional Drought\"]))\n",
    "droughtData.head()"
   ]
  },
  {
   "cell_type": "code",
   "execution_count": null,
   "metadata": {},
   "outputs": [],
   "source": [
    "droughtGroupYear = droughtData.groupby(droughtData[\"Year\"])\n",
    "exceptionalMean = droughtGroupYear[\"Exceptional Drought\"].mean()\n",
    "extremeMean = droughtGroupYear[\"Extreme Drought\"].mean()\n",
    "severeMean = droughtGroupYear[\"Severe Drought\"].mean()\n",
    "moderateMean = droughtGroupYear[\"Moderate Drought\"].mean()\n",
    "abnormallyDryMean = droughtGroupYear[\"Abnormally Dry\"].mean()\n",
    "noDroughtMean = droughtGroupYear[\"No Drought\"].mean()\n",
    "\n",
    "droughtLevelMeansDF = pd.DataFrame({\"Exceptional\": exceptionalMean, \"Extreme\":extremeMean, \"Severe\":severeMean,\n",
    "                   \"Moderate\":moderateMean, \"Abnormally Dry\": abnormallyDryMean, \"No Drought\": noDroughtMean})\n",
    "pal = sns.color_palette(\"Reds\")\n",
    "\n",
    "\n",
    "droughtLevelMeansDF.plot.area(color=pal)"
   ]
  },
  {
   "cell_type": "code",
   "execution_count": null,
   "metadata": {},
   "outputs": [],
   "source": []
  },
  {
   "cell_type": "code",
   "execution_count": null,
   "metadata": {},
   "outputs": [],
   "source": [
    "#Melissa K Code End Here"
   ]
  },
  {
   "cell_type": "code",
   "execution_count": null,
   "metadata": {},
   "outputs": [],
   "source": [
    "# Liz Code Start Here"
   ]
  },
  {
   "cell_type": "code",
   "execution_count": null,
   "metadata": {},
   "outputs": [],
   "source": []
  },
  {
   "cell_type": "code",
   "execution_count": null,
   "metadata": {},
   "outputs": [],
   "source": [
    "#Liz Code End Here"
   ]
  },
  {
   "cell_type": "code",
   "execution_count": null,
   "metadata": {},
   "outputs": [],
   "source": []
  }
 ],
 "metadata": {
  "kernelspec": {
   "display_name": "Python 3",
   "language": "python",
   "name": "python3"
  },
  "language_info": {
   "codemirror_mode": {
    "name": "ipython",
    "version": 3
   },
   "file_extension": ".py",
   "mimetype": "text/x-python",
   "name": "python",
   "nbconvert_exporter": "python",
   "pygments_lexer": "ipython3",
   "version": "3.6.9"
  }
 },
 "nbformat": 4,
 "nbformat_minor": 2
}
