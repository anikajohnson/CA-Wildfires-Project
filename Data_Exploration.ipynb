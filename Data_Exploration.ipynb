{
 "cells": [
  {
   "cell_type": "code",
   "execution_count": null,
   "metadata": {},
   "outputs": [],
   "source": [
    "# import necessary packages\n",
    "\n",
    "import pandas as pd\n",
    "import os\n",
    "from datetime import datetime # I think this one can probably get deleted\n",
    "import matplotlib.pyplot as plt\n",
    "import numpy as np\n",
    "from scipy.stats import linregress\n",
    "import seaborn as sns\n",
    "sns.set()\n",
    "\n",
    "#%matplotlib notebook"
   ]
  },
  {
   "cell_type": "code",
   "execution_count": null,
   "metadata": {},
   "outputs": [],
   "source": [
    "# Import Data as DataFrames\n",
    "fireData = pd.read_csv(\"Clean_Data/CA_WildFires.csv\")\n",
    "droughtData = pd.read_csv(\"Clean_Data/CA_Droughts.csv\")"
   ]
  },
  {
   "cell_type": "code",
   "execution_count": null,
   "metadata": {},
   "outputs": [],
   "source": [
    "# Melissa M code Start Here"
   ]
  },
  {
   "cell_type": "code",
   "execution_count": null,
   "metadata": {},
   "outputs": [],
   "source": []
  },
  {
   "cell_type": "code",
   "execution_count": null,
   "metadata": {},
   "outputs": [],
   "source": [
    "# Melissa M Code End Here"
   ]
  },
  {
   "cell_type": "code",
   "execution_count": null,
   "metadata": {},
   "outputs": [],
   "source": [
    "# Anika Code Start Here"
   ]
  },
  {
   "cell_type": "code",
   "execution_count": null,
   "metadata": {},
   "outputs": [],
   "source": []
  },
  {
   "cell_type": "code",
   "execution_count": null,
   "metadata": {},
   "outputs": [],
   "source": [
    "#Anika Code End Here"
   ]
  },
  {
   "cell_type": "code",
   "execution_count": null,
   "metadata": {},
   "outputs": [],
   "source": [
    "# Melissa K Code Start Here"
   ]
  },
  {
   "cell_type": "code",
   "execution_count": null,
   "metadata": {},
   "outputs": [],
   "source": [
    "droughtData[\"DSCI\"] = droughtData[\"Abnormally Dry\"]+ (2 * droughtData[\"Moderate Drought\"]) + \\\n",
    "                        (3 * droughtData[\"Severe Drought\"]) + (4 * droughtData[\"Extreme Drought\"] + \\\n",
    "                                                                (5 * droughtData[\"Exceptional Drought\"]))\n",
    "droughtData.head()"
   ]
  },
  {
   "cell_type": "code",
   "execution_count": null,
   "metadata": {},
   "outputs": [],
   "source": [
    "droughtGroupYear = droughtData.groupby(droughtData[\"Year\"])\n",
    "exceptionalMean = droughtGroupYear[\"Exceptional Drought\"].mean()\n",
    "extremeMean = droughtGroupYear[\"Extreme Drought\"].mean()\n",
    "severeMean = droughtGroupYear[\"Severe Drought\"].mean()\n",
    "moderateMean = droughtGroupYear[\"Moderate Drought\"].mean()\n",
    "abnormallyDryMean = droughtGroupYear[\"Abnormally Dry\"].mean()\n",
    "noDroughtMean = droughtGroupYear[\"No Drought\"].mean()\n",
    "\n",
    "droughtLevelMeansDF = pd.DataFrame({\"Exceptional\": exceptionalMean, \"Extreme\":extremeMean, \"Severe\":severeMean,\n",
    "                   \"Moderate\":moderateMean, \"Abnormally Dry\": abnormallyDryMean, \"No Drought\": noDroughtMean})\n",
    "pal = sns.color_palette(\"Reds\")\n",
    "\n",
    "\n",
    "droughtLevelMeansDF.plot.area(color=pal)"
   ]
  },
  {
   "cell_type": "code",
   "execution_count": null,
   "metadata": {},
   "outputs": [],
   "source": []
  },
  {
   "cell_type": "code",
   "execution_count": null,
   "metadata": {},
   "outputs": [],
   "source": [
    "#Melissa K Code End Here"
   ]
  },
  {
   "cell_type": "code",
   "execution_count": null,
   "metadata": {},
   "outputs": [],
   "source": [
    "# Liz Code Start Here"
   ]
  },
  {
   "cell_type": "code",
   "execution_count": null,
   "metadata": {},
   "outputs": [],
   "source": [
    "# access clean drought file and turn into DataFrame\n",
    "droughtData = pd.read_csv(\"Clean_Data/CA_Droughts.csv\")\n",
    "\n",
    "# check head to confirm dataframe properly loaded\n",
    "droughtData.head(1)\n",
    "\n",
    "# check tail\n",
    "droughtData.tail()"
   ]
  },
  {
   "cell_type": "code",
   "execution_count": null,
   "metadata": {},
   "outputs": [],
   "source": [
    "# check data types\n",
    "droughtData.info()"
   ]
  },
  {
   "cell_type": "code",
   "execution_count": null,
   "metadata": {},
   "outputs": [],
   "source": []
  },
  {
   "cell_type": "code",
   "execution_count": null,
   "metadata": {},
   "outputs": [],
   "source": [
    "# take a groupby of months and the mean of DSCI for each month over entire time period\n",
    "\n",
    "droughtData.groupby('month')['DSCI'].mean()"
   ]
  },
  {
   "cell_type": "code",
   "execution_count": null,
   "metadata": {},
   "outputs": [],
   "source": [
    "droughtData"
   ]
  },
  {
   "cell_type": "code",
   "execution_count": null,
   "metadata": {},
   "outputs": [],
   "source": [
    "# turn into df from groupby object\n",
    "months = droughtData.groupby('month')['DSCI'].mean()\n",
    "months =pd.DataFrame({'Average DSCI': months})\n",
    "months\n",
    "\n",
    "months['Month']=months.index\n",
    "months"
   ]
  },
  {
   "cell_type": "code",
   "execution_count": null,
   "metadata": {},
   "outputs": [],
   "source": [
    "ax = sns.lineplot(x=\"Month\", y=\"Average DSCI\", data=months)\n",
    "#plt.close()"
   ]
  },
  {
   "cell_type": "code",
   "execution_count": null,
   "metadata": {},
   "outputs": [],
   "source": [
    "# create seaborn bar chart of monthly DSCI average by month\n",
    "\n",
    "import seaborn as sns\n",
    "sns.set(style=\"darkgrid\")\n",
    "ax = sns.barplot(x=\"Month\", y=\"Average DSCI\", data=months, palette=\"dark\")\n",
    "#plt.close()"
   ]
  },
  {
   "cell_type": "code",
   "execution_count": null,
   "metadata": {},
   "outputs": [],
   "source": [
    "# create box plot of monthly DSCI avearge by month\n",
    "sns.set(style=\"darkgrid\")\n",
    "\n",
    "ax = sns.boxplot(x=months[\"Average DSCI\"])\n",
    "#plt.close()"
   ]
  },
  {
   "cell_type": "code",
   "execution_count": null,
   "metadata": {},
   "outputs": [],
   "source": [
    "# violin plot of monthly DSCI average by month\n",
    "\n",
    "sns.set(style=\"whitegrid\")\n",
    "\n",
    "ax = sns.violinplot(x=months[\"Average DSCI\"], inner = 'box')\n",
    "#plt.close()"
   ]
  },
  {
   "cell_type": "code",
   "execution_count": null,
   "metadata": {},
   "outputs": [],
   "source": [
    "# same as above but by year\n",
    "droughtData.groupby('year')['DSCI'].mean()"
   ]
  },
  {
   "cell_type": "code",
   "execution_count": null,
   "metadata": {},
   "outputs": [],
   "source": [
    "droughtData.head(5)"
   ]
  },
  {
   "cell_type": "code",
   "execution_count": null,
   "metadata": {},
   "outputs": [],
   "source": [
    "year_mean = droughtData.groupby('year').mean()\n",
    "year_mean.head()"
   ]
  },
  {
   "cell_type": "code",
   "execution_count": null,
   "metadata": {},
   "outputs": [],
   "source": [
    "year_"
   ]
  },
  {
   "cell_type": "code",
   "execution_count": null,
   "metadata": {},
   "outputs": [],
   "source": [
    "## turn into df from groupby object\n",
    "year = droughtData.groupby('year')['DSCI'].mean()\n",
    "year =pd.DataFrame({'Average DSCI':year})\n",
    "year['year']=year.index\n",
    "year.head()"
   ]
  },
  {
   "cell_type": "code",
   "execution_count": null,
   "metadata": {},
   "outputs": [],
   "source": [
    "# same as above but by year\n",
    "droughtData.groupby('year')['DSCI'].mean()"
   ]
  },
  {
   "cell_type": "code",
   "execution_count": null,
   "metadata": {},
   "outputs": [],
   "source": [
    "# seaborn bar chart for average DSCI by year\n",
    "sns.set(style=\"darkgrid\")\n",
    "ax = sns.barplot(x=\"year\", y=\"Average DSCI\", data=year, palette=\"dark\")\n",
    "#plt.close()\n",
    "ax =sns.barplot()"
   ]
  },
  {
   "cell_type": "code",
   "execution_count": null,
   "metadata": {},
   "outputs": [],
   "source": [
    "# seaborn line chart ###NOTE I don't like this one-LJ\n",
    "ax = sns.lineplot(x=\"year\", y=\"Average DSCI\", data=year)\n",
    "#plt.close()"
   ]
  },
  {
   "cell_type": "code",
   "execution_count": null,
   "metadata": {},
   "outputs": [],
   "source": [
    "# create seaborn boxplot for average DSCI by year\n",
    "sns.set(style=\"darkgrid\")\n",
    "\n",
    "ax = sns.boxplot(x=year[\"Average DSCI\"])\n",
    "#plt.close()"
   ]
  },
  {
   "cell_type": "code",
   "execution_count": null,
   "metadata": {},
   "outputs": [],
   "source": [
    "# violin plot for average DSCI by year\n",
    "\n",
    "sns.set(style=\"whitegrid\")\n",
    "\n",
    "ax = sns.violinplot(x=year[\"Average DSCI\"], inner = 'box')\n",
    "#plt.close()"
   ]
  },
  {
   "cell_type": "code",
   "execution_count": null,
   "metadata": {},
   "outputs": [],
   "source": [
    "#Liz Code End Here"
   ]
  },
  {
   "cell_type": "code",
   "execution_count": null,
   "metadata": {},
   "outputs": [],
   "source": []
  }
 ],
 "metadata": {
  "kernelspec": {
   "display_name": "Python 3",
   "language": "python",
   "name": "python3"
  },
  "language_info": {
   "codemirror_mode": {
    "name": "ipython",
    "version": 3
   },
   "file_extension": ".py",
   "mimetype": "text/x-python",
   "name": "python",
   "nbconvert_exporter": "python",
   "pygments_lexer": "ipython3",
   "version": "3.6.9"
  }
 },
 "nbformat": 4,
 "nbformat_minor": 4
}
