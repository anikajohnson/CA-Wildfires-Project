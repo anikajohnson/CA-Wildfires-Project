{
 "cells": [
  {
   "cell_type": "code",
   "execution_count": null,
   "metadata": {},
   "outputs": [],
   "source": [
    "# import necessary packages\n",
    "\n",
    "import pandas as pd\n",
    "import os\n",
    "from datetime import datetime # I think this one can probably get deleted\n",
    "import matplotlib.pyplot as plt\n",
    "import numpy as np\n",
    "from scipy.stats import linregress\n",
    "import seaborn as sns\n",
    "sns.set()\n",
    "\n",
    "%matplotlib notebook"
   ]
  },
  {
   "cell_type": "code",
   "execution_count": null,
   "metadata": {},
   "outputs": [],
   "source": [
    "# Import Data as DataFrames\n",
    "fireData = pd.read_csv(\"Clean_Data/CA_WildFires.csv\")\n",
    "droughtData = pd.read_csv(\"Clean_Data/CA_Droughts.csv\")"
   ]
  },
  {
   "cell_type": "code",
   "execution_count": null,
   "metadata": {},
   "outputs": [],
   "source": [
    "# Melissa M code Start Here"
   ]
  },
  {
   "cell_type": "code",
   "execution_count": null,
   "metadata": {},
   "outputs": [],
   "source": []
  },
  {
   "cell_type": "code",
   "execution_count": null,
   "metadata": {},
   "outputs": [],
   "source": [
    "# Melissa M Code End Here"
   ]
  },
  {
   "cell_type": "code",
   "execution_count": null,
   "metadata": {},
   "outputs": [],
   "source": [
    "# Anika Code Start Here"
   ]
  },
  {
   "cell_type": "code",
   "execution_count": null,
   "metadata": {},
   "outputs": [],
   "source": []
  },
  {
   "cell_type": "code",
   "execution_count": null,
   "metadata": {},
   "outputs": [],
   "source": [
    "#Anika Code End Here"
   ]
  },
  {
   "cell_type": "code",
   "execution_count": null,
   "metadata": {},
   "outputs": [],
   "source": [
    "# Melissa K Code Start Here"
   ]
  },
  {
   "cell_type": "code",
   "execution_count": null,
   "metadata": {},
   "outputs": [],
   "source": [
    "droughtData[\"DSCI\"] = droughtData[\"Abnormally Dry\"]+ (2 * droughtData[\"Moderate Drought\"]) + \\\n",
    "                        (3 * droughtData[\"Severe Drought\"]) + (4 * droughtData[\"Extreme Drought\"] + \\\n",
    "                                                                (5 * droughtData[\"Exceptional Drought\"]))\n",
    "droughtData.head()"
   ]
  },
  {
   "cell_type": "code",
   "execution_count": null,
   "metadata": {},
   "outputs": [],
   "source": [
    "droughtGroupYear = droughtData.groupby(droughtData[\"Year\"])\n",
    "exceptionalMean = droughtGroupYear[\"Exceptional Drought\"].mean()\n",
    "extremeMean = droughtGroupYear[\"Extreme Drought\"].mean()\n",
    "severeMean = droughtGroupYear[\"Severe Drought\"].mean()\n",
    "moderateMean = droughtGroupYear[\"Moderate Drought\"].mean()\n",
    "abnormallyDryMean = droughtGroupYear[\"Abnormally Dry\"].mean()\n",
    "noDroughtMean = droughtGroupYear[\"No Drought\"].mean()\n",
    "\n",
    "droughtLevelMeansDF = pd.DataFrame({\"Exceptional\": exceptionalMean, \"Extreme\":extremeMean, \"Severe\":severeMean,\n",
    "                   \"Moderate\":moderateMean, \"Abnormally Dry\": abnormallyDryMean, \"No Drought\": noDroughtMean})\n",
    "pal = sns.color_palette(\"Reds\")\n",
    "\n",
    "\n",
    "droughtLevelMeansDF.plot.area(color=pal)"
   ]
  },
  {
   "cell_type": "code",
   "execution_count": null,
   "metadata": {},
   "outputs": [],
   "source": []
  },
  {
   "cell_type": "code",
   "execution_count": null,
   "metadata": {},
   "outputs": [],
   "source": [
    "#Melissa K Code End Here"
   ]
  },
  {
   "cell_type": "code",
   "execution_count": null,
   "metadata": {},
   "outputs": [],
   "source": [
    "# Liz Code Start Here"
   ]
  },
  {
   "cell_type": "markdown",
   "metadata": {},
   "source": [
    "# check dataset"
   ]
  },
  {
   "cell_type": "code",
   "execution_count": null,
   "metadata": {},
   "outputs": [],
   "source": [
    "# access clean drought file and turn into DataFrame\n",
    "droughtData = pd.read_csv(\"Clean_Data/CA_Droughts.csv\")\n",
    "\n",
    "# check head to confirm dataframe properly loaded\n",
    "droughtData.head(1)\n",
    "\n",
    "# check tail\n",
    "droughtData.tail()"
   ]
  },
  {
   "cell_type": "code",
   "execution_count": null,
   "metadata": {},
   "outputs": [],
   "source": [
    "# check data types\n",
    "droughtData.info()"
   ]
  },
  {
   "cell_type": "markdown",
   "metadata": {},
   "source": [
    "# extract all 12 months and find mean value for each month over 20 year peroid"
   ]
  },
  {
   "cell_type": "code",
   "execution_count": null,
   "metadata": {},
   "outputs": [],
   "source": [
    "# extract January from droughtData\n",
    "Jan = droughtData[(droughtData['month'] == 1)]\n",
    "Jan.head(3)"
   ]
  },
  {
   "cell_type": "code",
   "execution_count": null,
   "metadata": {},
   "outputs": [],
   "source": [
    "# find mean for DSCI in Jan\n",
    "Jan['DSCI'].mean()"
   ]
  },
  {
   "cell_type": "code",
   "execution_count": null,
   "metadata": {},
   "outputs": [],
   "source": [
    "# extract February from droughtData\n",
    "Feb = droughtData[(droughtData['month'] == 2)]\n",
    "Feb.head(1)"
   ]
  },
  {
   "cell_type": "code",
   "execution_count": null,
   "metadata": {},
   "outputs": [],
   "source": [
    "# find mean for DSCI in Feb\n",
    "Feb['DSCI'].mean()"
   ]
  },
  {
   "cell_type": "code",
   "execution_count": null,
   "metadata": {},
   "outputs": [],
   "source": [
    "# extract March from droughtData\n",
    "Mar = droughtData[(droughtData['month'] == 3)]\n",
    "Mar.head(1)"
   ]
  },
  {
   "cell_type": "code",
   "execution_count": null,
   "metadata": {},
   "outputs": [],
   "source": [
    "# find mean for DSCI in March\n",
    "Mar['DSCI'].mean()"
   ]
  },
  {
   "cell_type": "code",
   "execution_count": null,
   "metadata": {},
   "outputs": [],
   "source": [
    "# extract April from droughtData\n",
    "Apr = droughtData[(droughtData['month'] == 4)]\n",
    "Apr.head(1)"
   ]
  },
  {
   "cell_type": "code",
   "execution_count": null,
   "metadata": {},
   "outputs": [],
   "source": [
    "# find mean for DSCI in April\n",
    "Apr['DSCI'].mean()"
   ]
  },
  {
   "cell_type": "code",
   "execution_count": null,
   "metadata": {},
   "outputs": [],
   "source": [
    "# extract May from droughtData\n",
    "May = droughtData[(droughtData['month'] == 5)]\n",
    "May.head(1)"
   ]
  },
  {
   "cell_type": "code",
   "execution_count": null,
   "metadata": {},
   "outputs": [],
   "source": [
    "# find mean for DSCI in May\n",
    "May['DSCI'].mean()"
   ]
  },
  {
   "cell_type": "code",
   "execution_count": null,
   "metadata": {},
   "outputs": [],
   "source": [
    "# extract June from droughtData\n",
    "June = droughtData[(droughtData['month'] == 6)]\n",
    "June.head(1)"
   ]
  },
  {
   "cell_type": "code",
   "execution_count": null,
   "metadata": {},
   "outputs": [],
   "source": [
    "# find mean for DSCI in June\n",
    "June['DSCI'].mean()"
   ]
  },
  {
   "cell_type": "code",
   "execution_count": null,
   "metadata": {},
   "outputs": [],
   "source": [
    "# extract July from droughtData\n",
    "July = droughtData[(droughtData['month'] == 7)]\n",
    "July.head(1)"
   ]
  },
  {
   "cell_type": "code",
   "execution_count": null,
   "metadata": {},
   "outputs": [],
   "source": [
    "# find mean for DSCI in July\n",
    "July['DSCI'].mean()"
   ]
  },
  {
   "cell_type": "code",
   "execution_count": null,
   "metadata": {},
   "outputs": [],
   "source": [
    "# extract Aug from droughtData\n",
    "Aug = droughtData[(droughtData['month'] == 8)]\n",
    "Aug.head(1)"
   ]
  },
  {
   "cell_type": "code",
   "execution_count": null,
   "metadata": {},
   "outputs": [],
   "source": [
    "# find mean for DSCI in Aug\n",
    "Aug['DSCI'].mean()"
   ]
  },
  {
   "cell_type": "code",
   "execution_count": null,
   "metadata": {},
   "outputs": [],
   "source": [
    "# Extract Sep from droughtData\n",
    "Sep = droughtData[(droughtData['month'] == 9)]\n",
    "Sep.head(1)"
   ]
  },
  {
   "cell_type": "code",
   "execution_count": null,
   "metadata": {},
   "outputs": [],
   "source": [
    "# find mean for DSCI in Sep\n",
    "Sep['DSCI'].mean()"
   ]
  },
  {
   "cell_type": "code",
   "execution_count": null,
   "metadata": {},
   "outputs": [],
   "source": [
    "# Extract Oct from droughtData\n",
    "Oct = droughtData[(droughtData['month'] == 10)]\n",
    "Oct.head(1)"
   ]
  },
  {
   "cell_type": "code",
   "execution_count": null,
   "metadata": {},
   "outputs": [],
   "source": [
    "# find mean for DSCI in Oct\n",
    "Oct['DSCI'].mean()\n"
   ]
  },
  {
   "cell_type": "code",
   "execution_count": null,
   "metadata": {},
   "outputs": [],
   "source": [
    "# Extract Nov from droughtData\n",
    "Nov = droughtData[(droughtData['month'] == 11)]\n",
    "Nov.head(1)"
   ]
  },
  {
   "cell_type": "code",
   "execution_count": null,
   "metadata": {},
   "outputs": [],
   "source": [
    "# find mean for DSCI in Nov\n",
    "Nov['DSCI'].mean()"
   ]
  },
  {
   "cell_type": "code",
   "execution_count": null,
   "metadata": {},
   "outputs": [],
   "source": [
    "# Extract Dec from droughtData\n",
    "Dec = droughtData[(droughtData['month'] == 12)]\n",
    "Nov.head(1)"
   ]
  },
  {
   "cell_type": "code",
   "execution_count": null,
   "metadata": {},
   "outputs": [],
   "source": [
    "# find mean for DSCI in Dec\n",
    "Dec['DSCI'].mean()"
   ]
  },
  {
   "cell_type": "code",
   "execution_count": null,
   "metadata": {},
   "outputs": [],
   "source": [
    "# try to creat datafram from month averages\n",
    "\n",
    "December = Dec['DSCI'].mean()\n",
    "December\n",
    "\n",
    "November = Nov['DSCI'].mean()\n",
    "November\n",
    "\n"
   ]
  },
  {
   "cell_type": "code",
   "execution_count": null,
   "metadata": {},
   "outputs": [],
   "source": []
  },
  {
   "cell_type": "markdown",
   "metadata": {},
   "source": [
    "## A better way to find average for month using groupby"
   ]
  },
  {
   "cell_type": "code",
   "execution_count": null,
   "metadata": {},
   "outputs": [],
   "source": [
    "droughtData.groupby('month')['DSCI'].mean()"
   ]
  },
  {
   "cell_type": "code",
   "execution_count": null,
   "metadata": {},
   "outputs": [],
   "source": [
    "# turn into df from groupby object\n",
    "super_fuzz = droughtData.groupby('month')['DSCI'].mean()\n",
    "super_fuzz =pd.DataFrame({'average': super_fuzz})\n",
    "super_fuzz\n",
    "\n",
    "super_fuzz['month']=super_fuzz.index\n",
    "super_fuzz\n",
    "\n"
   ]
  },
  {
   "cell_type": "code",
   "execution_count": null,
   "metadata": {},
   "outputs": [],
   "source": [
    "# Set x axis and tick locations\n",
    "x_axis = np.arange(len(super_fuzz))\n",
    "tick_locations = [value for value in x_axis]\n",
    "\n",
    "# Create a list indicating where to write x labels and set figure size to adjust for space\n",
    "plt.figure(figsize=(20,3))\n",
    "plt.bar(x_axis, super_fuzz[\"average\"], color='r', alpha=0.5, align=\"center\")\n",
    "plt.xticks(tick_locations, super_fuzz[\"month\"], rotation=\"vertical\")"
   ]
  },
  {
   "cell_type": "code",
   "execution_count": null,
   "metadata": {},
   "outputs": [],
   "source": []
  },
  {
   "cell_type": "code",
   "execution_count": null,
   "metadata": {},
   "outputs": [],
   "source": []
  },
  {
   "cell_type": "code",
   "execution_count": null,
   "metadata": {},
   "outputs": [],
   "source": [
    "# create bar chart of monthly average\n",
    "\n",
    "#import seaborn as sns\n"
   ]
  },
  {
   "cell_type": "code",
   "execution_count": null,
   "metadata": {},
   "outputs": [],
   "source": [
    "ax = super_fuzz.plot.bar(x='month', y='average', rot=0)\n"
   ]
  },
  {
   "cell_type": "code",
   "execution_count": null,
   "metadata": {},
   "outputs": [],
   "source": [
    "#sns.set(style=\"whitegrid\")\n",
    "#ax = sns.barplot(x=\"month\", y=\"average\", data=super_fuzz)"
   ]
  },
  {
   "cell_type": "code",
   "execution_count": null,
   "metadata": {},
   "outputs": [],
   "source": []
  },
  {
   "cell_type": "code",
   "execution_count": null,
   "metadata": {},
   "outputs": [],
   "source": [
    "# find mean of DSCI for month of January\n",
    "test = Jan.groupby([\"DSCI\"]).mean()\n",
    "test.mean()"
   ]
  },
  {
   "cell_type": "code",
   "execution_count": null,
   "metadata": {},
   "outputs": [],
   "source": [
    "#Liz Code End Here"
   ]
  },
  {
   "cell_type": "code",
   "execution_count": null,
   "metadata": {},
   "outputs": [],
   "source": []
  }
 ],
 "metadata": {
  "kernelspec": {
   "display_name": "Python 3",
   "language": "python",
   "name": "python3"
  },
  "language_info": {
   "codemirror_mode": {
    "name": "ipython",
    "version": 3
   },
   "file_extension": ".py",
   "mimetype": "text/x-python",
   "name": "python",
   "nbconvert_exporter": "python",
   "pygments_lexer": "ipython3",
   "version": "3.6.9"
  }
 },
 "nbformat": 4,
 "nbformat_minor": 4
}
