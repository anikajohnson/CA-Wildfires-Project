{
 "cells": [
  {
   "cell_type": "code",
   "execution_count": null,
   "metadata": {},
   "outputs": [],
   "source": [
    "# import necessary packages\n",
    "\n",
    "import pandas as pd\n",
    "import os\n",
    "import matplotlib.pyplot as plt\n",
    "import numpy as np\n",
    "from scipy import stats\n",
    "from scipy.stats import linregress\n",
    "import seaborn as sns\n",
    "\n",
    "%matplotlib inline\n"
   ]
  },
  {
   "cell_type": "code",
   "execution_count": null,
   "metadata": {},
   "outputs": [],
   "source": [
    "fireData = pd.read_csv(\"Clean_Data/CA_WildFires.csv\")\n",
    "droughtData = pd.read_csv(\"Clean_Data/CA_Droughts.csv\")\n",
    "\n",
    "year_mean = droughtData.groupby('year').mean()\n",
    "year_mean_df = pd.DataFrame(year_mean)\n",
    "year_mean_df['year'] =year_mean_df.index\n",
    "\n",
    "year_df = droughtData.groupby('year')['DSCI'].mean()\n",
    "year_df =pd.DataFrame({'Average DSCI':year_df})\n",
    "year_df['year']=year_df.index"
   ]
  },
  {
   "cell_type": "code",
   "execution_count": null,
   "metadata": {},
   "outputs": [],
   "source": [
    "# create linear regression graph for Years vs Acres\n",
    "\n",
    "x_values = fireData[\"Year\"]\n",
    "y_values = fireData[\"Acres\"]\n",
    "tick_locations = [2000, 2005, 2010, 2015, 2020]\n",
    "\n",
    "(slope, intercept, rvalue, pvalue, stderr) = linregress(x_values, y_values)\n",
    "regress_values = x_values * slope + intercept\n",
    "line_eq = \"y = \" + str(round(slope,2)) + \"x + \" + str(round(intercept,2))\n",
    "plt.figure(figsize=(10,5))\n",
    "plt.scatter(x_values,y_values, color=\"darkorange\")\n",
    "plt.plot(x_values,regress_values,color=\"firebrick\")\n",
    "plt.annotate(line_eq,(2000,1750000),fontsize=15,color=\"firebrick\")\n",
    "plt.annotate(f'r value: {rvalue}', (2000, 1600000),fontsize=15,color=\"firebrick\")\n",
    "plt.xticks(tick_locations, tick_locations, rotation=\"vertical\")\n",
    "plt.tight_layout()\n",
    "\n",
    "plt.xlabel(\"Year\")\n",
    "plt.ylabel(\"Acres of Fire\")\n",
    "\n",
    "\n",
    "\n",
    "plt.savefig(\"Images/FireAcresScatterPlot.png\")\n",
    "plt.show()"
   ]
  },
  {
   "cell_type": "code",
   "execution_count": null,
   "metadata": {},
   "outputs": [],
   "source": [
    "# seaborn bar chart for average DSCI by year\n",
    "sns.set(style=\"darkgrid\")\n",
    "plt.figure(figsize=(12,5))\n",
    "pal = sns.color_palette(\"YlOrRd\",20)\n",
    "ax = sns.barplot(x=\"Year\", y=\"Acres\", data=fireData, palette=pal)\n",
    "plt.savefig(\"Images/AverageAcresBarChart.png\")"
   ]
  },
  {
   "cell_type": "code",
   "execution_count": null,
   "metadata": {},
   "outputs": [],
   "source": [
    "# Mean DSCI Scatterplot with Linear Regression\n",
    "x_values = year_mean_df['year']\n",
    "y_values = year_mean_df['DSCI']\n",
    "\n",
    "(slope, intercept, rvalue, pvalue, stderr) = linregress(x_values, y_values)\n",
    "regress_values = x_values * slope + intercept\n",
    "line_eq = \"y = \" + str(round(slope,2)) + \"x + \" + str(round(intercept,2))\n",
    "\n",
    "plt.figure(figsize=(10,5))\n",
    "plt.scatter(x_values,y_values, color=\"darkorange\")\n",
    "\n",
    "plt.plot(x_values,regress_values,\"firebrick\")\n",
    "plt.annotate(line_eq,(2000,1000),fontsize=15,color=\"firebrick\")\n",
    "plt.annotate(f'r value: {rvalue}', (2000, 900), fontsize=15,color=\"firebrick\")\n",
    "\n",
    "plt.xticks(x_values, rotation=90)\n",
    "plt.xlabel('Year')\n",
    "plt.ylabel('DSCI Value')\n",
    "plt.title('Mean DSCI from 2000-2020')\n",
    "\n",
    "\n",
    "plt.savefig(\"Images/MeanDSCIScatterplot.png\")\n",
    "plt.show()"
   ]
  },
  {
   "cell_type": "code",
   "execution_count": null,
   "metadata": {},
   "outputs": [],
   "source": [
    "sns.set(style=\"darkgrid\")\n",
    "plt.figure(figsize=(12,5))\n",
    "\n",
    "ax = sns.barplot(x='year', y='Average DSCI', data=year_df, palette=pal)\n",
    "plt.savefig(\"Images/AverageDSCIBarGraph.png\")"
   ]
  },
  {
   "cell_type": "code",
   "execution_count": null,
   "metadata": {},
   "outputs": [],
   "source": [
    "sns.set(style=\"darkgrid\")\n",
    "plt.figure(figsize=(10,5))\n",
    "\n",
    "ax = sns.boxplot(x=year_df[\"Average DSCI\"],palette=\"Oranges\")\n",
    "plt.savefig(\"Images/AverageDSCIBoxPlot.png\")"
   ]
  },
  {
   "cell_type": "code",
   "execution_count": null,
   "metadata": {},
   "outputs": [],
   "source": [
    "#left out abnormally dry as it's a total of d1-d4, and this is an area graph of the means of\n",
    "#the severity levels\n",
    "droughtGroupYear = droughtData.groupby(droughtData[\"year\"])\n",
    "exceptionalMean = droughtGroupYear[\"D4-Exceptional Drought\"].mean()\n",
    "extremeMean = droughtGroupYear[\"D3-Extreme Drought\"].mean()\n",
    "severeMean = droughtGroupYear[\"D2-Severe Drought\"].mean()\n",
    "moderateMean = droughtGroupYear[\"D1-Moderate Drought\"].mean()\n",
    "noDroughtMean = droughtGroupYear[\"No Drought\"].mean()\n",
    "\n",
    "droughtLevelMeansDFNoAb = pd.DataFrame({\"Exceptional\": exceptionalMean, \"Extreme\":extremeMean, \"Severe\":severeMean,\n",
    "                   \"Moderate\":moderateMean, \"No Drought\": noDroughtMean})\n",
    "\n",
    "pal = reversed(sns.color_palette(\"Reds\"))\n",
    "droughtLevelMeansDFNoAb.plot.area(color=pal, figsize=(12,5))\n",
    "\n",
    "plt.gca().set_xticks(droughtData[\"year\"].unique()) #gets rid of year being converted to float\n",
    "plt.title(\"Stacked Means of Drought Severity Levels\")\n",
    "plt.xlabel(\"Years\")\n",
    "plt.ylabel(\"Cumulative Mean (%)\")\n",
    "plt.savefig(\"Images/CumulativeMeanDSCIAreaChart.png\")\n",
    "plt.show()"
   ]
  },
  {
   "cell_type": "code",
   "execution_count": null,
   "metadata": {},
   "outputs": [],
   "source": [
    "#linear regression of dsci over the years\n",
    "xValues = droughtData[\"year\"]\n",
    "yValues = droughtData[\"DSCI\"]\n",
    "plt.figure(figsize=(12,5))\n",
    "plt.scatter(x = droughtData[\"year\"], y = droughtData[\"DSCI\"])\n",
    "plt.gca().set_xticks(droughtData[\"year\"].unique())\n",
    "\n",
    "(slope, intercept, rvalue, pvalue, stderr) = linregress(xValues, yValues)\n",
    "regress_values = xValues * slope + intercept\n",
    "line_eq = \"y = \" + str(round(slope,2)) + \"x + \" + str(round(intercept,2))\n",
    "plt.scatter(xValues,yValues, color=\"darkorange\")\n",
    "plt.plot(xValues,regress_values,\"firebrick\")\n",
    "plt.annotate(line_eq,(2000,1000),fontsize=15,color=\"firebrick\")\n",
    "plt.annotate(f'r value: {rvalue}', (2000,800), fontsize=15, color=\"firebrick\")\n",
    "plt.title(\"Drought Severity And Coverage Index (DSCI)\")\n",
    "plt.xlabel(\"Years\")\n",
    "plt.ylabel(\"DSCI \\n(Weighted Sum of the Percents of the 5 different Drought Levels)\")\n",
    "plt.savefig(\"Images/WeightedSumDSCIScatterPlot.png\")\n",
    "plt.show()"
   ]
  },
  {
   "cell_type": "code",
   "execution_count": null,
   "metadata": {},
   "outputs": [],
   "source": [
    "# T-Test for acres affected by All Drought Conditions versus acres burned in Wildfires\n",
    "\n",
    "droughtData[\"D0 Percent\"] = droughtData[\"D0-Abnormally Dry\"]/100\n",
    "CAacres= 104765000 #number of acres in California\n",
    "droughtData[\"D0-Abnormally Dry Acres\"] = CAacres * droughtData[\"D0 Percent\"]\n",
    "\n",
    "droughtDataTtestAll = droughtData[\"D0-Abnormally Dry Acres\"]\n",
    "fireDataTtest = fireData[\"Acres\"]\n",
    "stats.ttest_ind(droughtDataTtestAll, fireDataTtest)"
   ]
  },
  {
   "cell_type": "code",
   "execution_count": null,
   "metadata": {},
   "outputs": [],
   "source": [
    "# T-test for acres affected by Exceptional Droughts versus acres burned in Wildfires\n",
    "\n",
    "droughtData[\"D4 Percent\"] = droughtData[\"D4-Exceptional Drought\"]/100\n",
    "droughtData[\"D4-Exceptional Drought Acres\"] = CAacres * droughtData[\"D4 Percent\"]\n",
    "droughtDataTtestExc = droughtData[\"D4-Exceptional Drought Acres\"]\n",
    "stats.ttest_ind(droughtDataTtestExc, fireDataTtest)"
   ]
  },
  {
   "cell_type": "code",
   "execution_count": null,
   "metadata": {},
   "outputs": [],
   "source": []
  },
  {
   "cell_type": "code",
   "execution_count": null,
   "metadata": {},
   "outputs": [],
   "source": []
  },
  {
   "cell_type": "code",
   "execution_count": null,
   "metadata": {},
   "outputs": [],
   "source": []
  },
  {
   "cell_type": "code",
   "execution_count": null,
   "metadata": {},
   "outputs": [],
   "source": []
  }
 ],
 "metadata": {
  "kernelspec": {
   "display_name": "Python 3",
   "language": "python",
   "name": "python3"
  },
  "language_info": {
   "codemirror_mode": {
    "name": "ipython",
    "version": 3
   },
   "file_extension": ".py",
   "mimetype": "text/x-python",
   "name": "python",
   "nbconvert_exporter": "python",
   "pygments_lexer": "ipython3",
   "version": "3.6.9"
  }
 },
 "nbformat": 4,
 "nbformat_minor": 4
}
