{
 "cells": [
  {
   "cell_type": "code",
   "execution_count": null,
   "metadata": {},
   "outputs": [],
   "source": [
    "#Dependencies\n",
    "import pandas as pd\n",
    "import os\n",
    "from datetime import datetime # I think this one can probably get deleted\n",
    "import matplotlib.pyplot as plt\n",
    "import numpy as np\n",
    "from scipy.stats import linregress\n",
    "import seaborn as sns\n",
    "import scipy.stats as stats\n",
    "\n",
    "%matplotlib inline\n",
    "sns.set()"
   ]
  },
  {
   "cell_type": "code",
   "execution_count": null,
   "metadata": {},
   "outputs": [],
   "source": [
    "# Import Data as DataFrames\n",
    "fireData = pd.read_csv(\"Clean_Data/CA_WildFires.csv\")\n",
    "droughtData = pd.read_csv(\"Clean_Data/CA_Droughts.csv\")"
   ]
  },
  {
   "cell_type": "code",
   "execution_count": null,
   "metadata": {},
   "outputs": [],
   "source": [
    "#Melissa M Code"
   ]
  },
  {
   "cell_type": "code",
   "execution_count": null,
   "metadata": {},
   "outputs": [],
   "source": [
    "#End Melissa M Code"
   ]
  },
  {
   "cell_type": "code",
   "execution_count": null,
   "metadata": {},
   "outputs": [],
   "source": [
    "#Start Anika Code"
   ]
  },
  {
   "cell_type": "code",
   "execution_count": null,
   "metadata": {},
   "outputs": [],
   "source": [
    "# End Anika Code"
   ]
  },
  {
   "cell_type": "code",
   "execution_count": null,
   "metadata": {},
   "outputs": [],
   "source": [
    "#start Melissa K Code\n"
   ]
  },
  {
   "cell_type": "code",
   "execution_count": null,
   "metadata": {},
   "outputs": [],
   "source": [
    "#left out abnormally dry as it's a total of d1-d4, and this is an area graph of the means of\n",
    "#the severity levels\n",
    "droughtGroupYear = droughtData.groupby(droughtData[\"year\"])\n",
    "exceptionalMean = droughtGroupYear[\"D4-Exceptional Drought\"].mean()\n",
    "extremeMean = droughtGroupYear[\"D3-Extreme Drought\"].mean()\n",
    "severeMean = droughtGroupYear[\"D2-Severe Drought\"].mean()\n",
    "moderateMean = droughtGroupYear[\"D1-Moderate Drought\"].mean()\n",
    "noDroughtMean = droughtGroupYear[\"No Drought\"].mean()\n",
    "\n",
    "droughtLevelMeansDFNoAb = pd.DataFrame({\"Exceptional\": exceptionalMean, \"Extreme\":extremeMean, \"Severe\":severeMean,\n",
    "                   \"Moderate\":moderateMean, \"No Drought\": noDroughtMean})\n",
    "\n",
    "pal = reversed(sns.color_palette(\"Reds\"))\n",
    "droughtLevelMeansDFNoAb.plot.area(color=pal, figsize=(12,5))\n",
    "\n",
    "plt.gca().set_xticks(droughtData[\"year\"].unique()) #gets rid of year being converted to float\n",
    "plt.title(\"Stacked Means of Drought Severity Levels\")\n",
    "plt.xlabel(\"Years\")\n",
    "plt.ylabel(\"Cumulative Mean (%)\")\n",
    "plt.show()"
   ]
  },
  {
   "cell_type": "code",
   "execution_count": null,
   "metadata": {},
   "outputs": [],
   "source": [
    "#linear regression of dsci over the years\n",
    "xValues = droughtData[\"year\"]\n",
    "yValues = droughtData[\"DSCI\"]\n",
    "plt.figure(figsize=(12,5))\n",
    "plt.scatter(x = droughtData[\"year\"], y = droughtData[\"DSCI\"])\n",
    "plt.gca().set_xticks(droughtData[\"year\"].unique())\n",
    "\n",
    "(slope, intercept, rvalue, pvalue, stderr) = linregress(xValues, yValues)\n",
    "regress_values = xValues * slope + intercept\n",
    "line_eq = \"y = \" + str(round(slope,2)) + \"x + \" + str(round(intercept,2))\n",
    "plt.scatter(xValues,yValues, color=\"teal\")\n",
    "plt.plot(xValues,regress_values,\"b-\")\n",
    "plt.annotate(line_eq,(2005,1000),fontsize=15,color=\"royalblue\")\n",
    "plt.annotate(f'pvalue: {pvalue}', (2005,800), fontsize=15, color=\"royalblue\")\n",
    "plt.title(\"Drought Severity And Coverage Index (DSCI)\")\n",
    "plt.xlabel(\"Years\")\n",
    "plt.ylabel(\"DSCI \\n(Weighted Sum of the Percents of the 5 different Drought Levels)\")\n",
    "plt.show()"
   ]
  },
  {
   "cell_type": "code",
   "execution_count": null,
   "metadata": {},
   "outputs": [],
   "source": [
    "# the two sample t-test shows if the means of two populations are equal,\n",
    "# so I think that we can do the mean of acres burned and mean of acres in droughts\n",
    "# null hypothesis that there is no difference in mean of acres burned in wilfires and mean\n",
    "# of acres affected by drought.\n",
    "# pvalue< 0.05 shows that we reject the null so there is evidence to show that the means are \n",
    "# different. So drought acreage doesn't affect wildfire acreage\n",
    "\n",
    "droughtData[\"D0 Percent\"] = droughtData[\"D0-Abnormally Dry\"]/100\n",
    "CAacres= 104765000 #number of acres in California\n",
    "droughtData[\"D0-Abnormally Dry Acres\"] = CAacres * droughtData[\"D0 Percent\"]\n",
    "\n",
    "droughtDataTtestAll = droughtData[\"D0-Abnormally Dry Acres\"]\n",
    "fireDataTtest = fireData[\"Acres\"]\n",
    "stats.ttest_ind(droughtDataTtestAll, fireDataTtest)"
   ]
  },
  {
   "cell_type": "code",
   "execution_count": null,
   "metadata": {},
   "outputs": [],
   "source": [
    "# t-test of Exceptional drought acreage has a higher pvalue than 0.05 so we cannot conclude\n",
    "# that there is a significant difference in the means, so D4 mean acres are similiar to \n",
    "# acres that are burned in wildfires\n",
    "\n",
    "droughtData[\"D4 Percent\"] = droughtData[\"D4-Exceptional Drought\"]/100\n",
    "droughtData[\"D4-Exceptional Drought Acres\"] = CAacres * droughtData[\"D4 Percent\"]\n",
    "droughtDataTtestExc = droughtData[\"D4-Exceptional Drought Acres\"]\n",
    "stats.ttest_ind(droughtDataTtestExc, fireDataTtest)"
   ]
  },
  {
   "cell_type": "code",
   "execution_count": null,
   "metadata": {},
   "outputs": [],
   "source": [
    "#End Melissa K Code"
   ]
  },
  {
   "cell_type": "code",
   "execution_count": null,
   "metadata": {},
   "outputs": [],
   "source": [
    "# Start Liz Code"
   ]
  },
  {
   "cell_type": "code",
   "execution_count": null,
   "metadata": {},
   "outputs": [],
   "source": [
    "#End Liz Code"
   ]
  }
 ],
 "metadata": {
  "kernelspec": {
   "display_name": "Python 3",
   "language": "python",
   "name": "python3"
  },
  "language_info": {
   "codemirror_mode": {
    "name": "ipython",
    "version": 3
   },
   "file_extension": ".py",
   "mimetype": "text/x-python",
   "name": "python",
   "nbconvert_exporter": "python",
   "pygments_lexer": "ipython3",
   "version": "3.6.9"
  }
 },
 "nbformat": 4,
 "nbformat_minor": 4
}
