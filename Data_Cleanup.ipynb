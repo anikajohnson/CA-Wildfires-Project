{
 "cells": [
  {
   "cell_type": "code",
   "execution_count": null,
   "metadata": {},
   "outputs": [],
   "source": [
    "#your code start"
   ]
  },
  {
   "cell_type": "code",
   "execution_count": null,
   "metadata": {},
   "outputs": [],
   "source": [
    "# import nessacry packges\n",
    "import pandas as pd\n",
    "import os\n",
    "from datetime import datetime\n",
    "import matplotlib.pyplot as plt\n",
    "import numpy as np\n",
    "from scipy.stats import linregress"
   ]
  },
  {
   "cell_type": "code",
   "execution_count": null,
   "metadata": {},
   "outputs": [],
   "source": [
    "pwd"
   ]
  },
  {
   "cell_type": "code",
   "execution_count": null,
   "metadata": {},
   "outputs": [],
   "source": [
    "# load file to clean using os.join method\n",
    "file = os.path.join('..','CA-Wildfires-Project','Raw_Data','state-CA .csv')\n",
    "\n",
    "#convert file into Pandas Dataframe \n",
    "droughts = pd.read_csv(file)\n",
    "\n",
    "# show head of dataframe\n",
    "droughts.head()"
   ]
  },
  {
   "cell_type": "code",
   "execution_count": null,
   "metadata": {},
   "outputs": [],
   "source": [
    "# rename columns to convey more helpful information\n",
    "droughts.columns =['Date','D4-Exceptional Drought','D3-Extreme Drought','D2-Severe Drought',\\\n",
    "                   'D1-Moderate Drought','D0-Abnormally Dry', 'No Drought']\n",
    "\n",
    "#show head of renamed dataframe\n",
    "droughts.head()"
   ]
  },
  {
   "cell_type": "code",
   "execution_count": null,
   "metadata": {},
   "outputs": [],
   "source": [
    "# because the 'Date' columns shows up as an object, it must be converted to datetime\n",
    "# converting to datetime \n",
    "droughts['date_dt'] = pd.to_datetime(droughts['Date'], format ='%m/%d/%Y')"
   ]
  },
  {
   "cell_type": "code",
   "execution_count": null,
   "metadata": {},
   "outputs": [],
   "source": [
    "# check datatypes to confirm conversion to datatime\n",
    "droughts.info()"
   ]
  },
  {
   "cell_type": "code",
   "execution_count": null,
   "metadata": {},
   "outputs": [],
   "source": [
    "droughts['date_dt'] = pd.to_datetime(droughts['Date'])\n",
    "droughts.head()"
   ]
  },
  {
   "cell_type": "code",
   "execution_count": null,
   "metadata": {},
   "outputs": [],
   "source": [
    "# access Date and new date_dt column\n",
    "droughts[['Date','date_dt']].head()"
   ]
  },
  {
   "cell_type": "code",
   "execution_count": null,
   "metadata": {},
   "outputs": [],
   "source": [
    "# create new year column based on date column\n",
    "droughts['year'] = droughts['date_dt'].dt.year\n",
    "droughts[['Date','date_dt','year']].head()"
   ]
  },
  {
   "cell_type": "code",
   "execution_count": null,
   "metadata": {},
   "outputs": [],
   "source": [
    "# finish parsing data to show year, month and day\n",
    "droughts['month'], droughts['day'] = (droughts['date_dt'].dt.month,droughts['date_dt'].dt.day)\n",
    "droughts.head(1)\n",
    "#droughts.tail()"
   ]
  },
  {
   "cell_type": "code",
   "execution_count": null,
   "metadata": {},
   "outputs": [],
   "source": [
    "# check datatypes again\n",
    "droughts.info()"
   ]
  },
  {
   "cell_type": "code",
   "execution_count": null,
   "metadata": {},
   "outputs": [],
   "source": [
    "# rearrange order of columns\n",
    "neworder = ['year','month','D4-Exceptional Drought','D3-Extreme Drought','D2-Severe Drought',\\\n",
    "            'D1-Moderate Drought','D0-Abnormally Dry','No Drought','Date','date_dt','day']\n",
    "\n",
    "droughts.columns = neworder\n",
    "\n",
    "droughts.head()"
   ]
  },
  {
   "cell_type": "code",
   "execution_count": null,
   "metadata": {},
   "outputs": [],
   "source": [
    "# captalize first letter of first two columns\n",
    "droughts = droughts.rename(columns={'year':'Year','month':'Month'})\n",
    "\n",
    "# show head to confirm \n",
    "droughts.head()\n",
    "\n"
   ]
  },
  {
   "cell_type": "code",
   "execution_count": null,
   "metadata": {},
   "outputs": [],
   "source": [
    "# drop date_dt column\n",
    "del droughts['date_dt']\n",
    "# confirm dropped\n",
    "droughts.head()"
   ]
  },
  {
   "cell_type": "code",
   "execution_count": null,
   "metadata": {},
   "outputs": [],
   "source": [
    "#drop day column\n",
    "del droughts['day']\n",
    "# confirm dropped\n",
    "droughts.head()"
   ]
  },
  {
   "cell_type": "code",
   "execution_count": null,
   "metadata": {},
   "outputs": [],
   "source": [
    "# remove first three rows as we do not data from 2020\n",
    "droughts = droughts.drop([0,1,2])\n",
    "droughts.head()"
   ]
  },
  {
   "cell_type": "code",
   "execution_count": null,
   "metadata": {},
   "outputs": [],
   "source": [
    "# reset index\n",
    "droughts.reset_index()"
   ]
  },
  {
   "cell_type": "code",
   "execution_count": null,
   "metadata": {},
   "outputs": [],
   "source": [
    "#DSCI is Drought Severity and Coverage Index and computed with a weighted sum\n",
    "droughts[\"DSCI\"] = droughts[\"D0-Abnormally Dry\"] + (2 * droughts[\"D1-Moderate Drought\"]) + \\\n",
    "                                                   (3 * droughts[\"D2-Severe Drought\"]) + \\\n",
    "                                                    (4 * droughts[\"D3-Extreme Drought\"]) + \\\n",
    "                                                    (5 * droughts[\"D4-Exceptional Drought\"])\n"
   ]
  },
  {
   "cell_type": "code",
   "execution_count": null,
   "metadata": {},
   "outputs": [],
   "source": [
    "droughts.head()"
   ]
  },
  {
   "cell_type": "code",
   "execution_count": null,
   "metadata": {},
   "outputs": [],
   "source": [
    "#write to csv\n",
    "droughts.to_csv(\"CA_Droughts.csv\", index=False)"
   ]
  },
  {
   "cell_type": "code",
   "execution_count": null,
   "metadata": {},
   "outputs": [],
   "source": [
    "#Anika start"
   ]
  },
  {
   "cell_type": "code",
   "execution_count": null,
   "metadata": {},
   "outputs": [],
   "source": []
  },
  {
   "cell_type": "code",
   "execution_count": null,
   "metadata": {},
   "outputs": [],
   "source": []
  },
  {
   "cell_type": "code",
   "execution_count": 1,
   "metadata": {},
   "outputs": [],
   "source": [
    "#Anika end"
   ]
  }
 ],
 "metadata": {
  "kernelspec": {
   "display_name": "Python 3",
   "language": "python",
   "name": "python3"
  },
  "language_info": {
   "codemirror_mode": {
    "name": "ipython",
    "version": 3
   },
   "file_extension": ".py",
   "mimetype": "text/x-python",
   "name": "python",
   "nbconvert_exporter": "python",
   "pygments_lexer": "ipython3",
   "version": "3.6.9"
  }
 },
 "nbformat": 4,
 "nbformat_minor": 4
}
