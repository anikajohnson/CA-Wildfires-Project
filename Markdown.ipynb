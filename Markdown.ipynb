{
 "cells": [
  {
   "cell_type": "markdown",
   "metadata": {},
   "source": [
    "## Changing Climate Conditions & California Wildfires: \n",
    "### _Is Increasing Drought Severity Causing More Wildfires?_\n",
    "\n",
    "\n",
    "**Group Members:** _Anika Johnson, Liz Jones, Melissa Miller, and Melissa Keller_"
   ]
  },
  {
   "cell_type": "markdown",
   "metadata": {},
   "source": [
    "### Motivation & Summary\n",
    "For our group project, we chose to look at changes in California’s climate conditions between the years 2000-2020 to understand if there is a correlation between the severity of wildfires and the severity of drought conditions. \n"
   ]
  },
  {
   "cell_type": "markdown",
   "metadata": {},
   "source": [
    "### Research Questions\n",
    "* _Has the frequency and severity of wildfires in California increased in the last 20 years?_\n",
    "* _Has the frequency and severity of droughts in California increased in the last 20 years?_\n",
    "* _Is the increase in wildfire severity is positively correlated with increased drought severity?_\n"
   ]
  },
  {
   "cell_type": "markdown",
   "metadata": {},
   "source": [
    "## Hypothesis Testing\n",
    "* **Dependent Variable:** The frequency and severity of wildfires has increased in the past 20 years (2000-2020).\n",
    "* **Independent Variable:** The frequency and severity of droughts has increased in the past 20 years (2000-2020).\n",
    "* **Hypothesis:** Increased drought severity is causing an increase in wildfire severity. \n",
    "* **Null Hypothesis:** Drought severity has no effect on wildfire severity."
   ]
  },
  {
   "cell_type": "markdown",
   "metadata": {},
   "source": [
    "### Data Sources\n",
    "\n",
    "#### 1) Has the frequency and severity of wildfires in California increased in the last 20 years?\n",
    "\n",
    "> **Data Needed:** \n",
    "* A metric to measure wildfire frequency \n",
    "* A metric to measure wildfire severity\n",
    "\n",
    "> **Data Source:** \n",
    "* National Interagency Fire Center Data, specifically records of fires per year and acreage burned per year in California from 2000-2020. \n",
    "\n",
    "#### 2) Has the frequency and severity of droughts in California increased in the last 20 years?\n",
    "> **Data Needed:** \n",
    "* A metric to measure drought frequency \n",
    "* A metric to measure drought severity\n",
    "\n",
    "> **Data Source:** \n",
    "* The US Drought Monitor Data from Drought.gov, specifically, drought monitor data in California from 2000-2020. We originally found this data source while searching on data.gov. \n",
    "\n",
    "#### 3) Is the increase in wildfire severity is positively correlated with increased drought severity?\n",
    "> * The drought monitor captures the percentage of California experiencing a certain drought qualification and therefore we were able to convert our metric to total acres impacted out of the total acreage in California. This in turn allowed us to compare if acreage burned each year was correlated to the acreage affected by each drought category.\n"
   ]
  },
  {
   "cell_type": "markdown",
   "metadata": {},
   "source": [
    "### Data Cleanup \n",
    "> **National Interagency Fire Center Data:**\n",
    "* Drop Hectares column\n",
    "* Convert Float values to Int.\n",
    "\n",
    "> **The US Drought Monitor Data:**\n",
    "* Add descriptive titles for each drought measure on scale\n",
    "* Convert Date format\n"
   ]
  },
  {
   "cell_type": "markdown",
   "metadata": {},
   "source": [
    "### Data Exploration\n",
    "> **Insights from Data Exploration**\n",
    "\n",
    "> **Problem Solving**"
   ]
  },
  {
   "cell_type": "markdown",
   "metadata": {},
   "source": [
    "### Data Analysis\n",
    "* Linear Regression Scatterplot (total acreage burned vs year)\n",
    "* Linear Regression Scatterplot(total acreage burned vs year)\n",
    "\n",
    "* Linear regression of mean DSCI\n",
    "* stacked area chart \n",
    "\n",
    "* T-test of abnormally dry and fire acres\n",
    "* T-test of exceptional drought and fire acres\n"
   ]
  },
  {
   "cell_type": "markdown",
   "metadata": {},
   "source": [
    "### Discussion of Findings\n",
    "> **Findings Summary**\n",
    "* Outliers\n",
    "* Burn Cycles\n",
    "\n",
    "> **Did we answer all our questions?**\n"
   ]
  },
  {
   "cell_type": "markdown",
   "metadata": {},
   "source": [
    "### Future Questions\n",
    "> **Look into human effects of wildfires.**\n",
    "* People are moving to areas with higher fire risk because of being priced out of housing. \n",
    "* Implementation of fire prevention techniques. Are low income houses able to make changes to meet these standards? \n",
    "* Fires and increase in asthma and COPD. \n"
   ]
  },
  {
   "cell_type": "code",
   "execution_count": null,
   "metadata": {},
   "outputs": [],
   "source": []
  }
 ],
 "metadata": {
  "kernelspec": {
   "display_name": "Python 3",
   "language": "python",
   "name": "python3"
  },
  "language_info": {
   "codemirror_mode": {
    "name": "ipython",
    "version": 3
   },
   "file_extension": ".py",
   "mimetype": "text/x-python",
   "name": "python",
   "nbconvert_exporter": "python",
   "pygments_lexer": "ipython3",
   "version": "3.6.9"
  }
 },
 "nbformat": 4,
 "nbformat_minor": 2
}
